{
 "cells": [
  {
   "cell_type": "code",
   "execution_count": 7,
   "id": "563dd85a",
   "metadata": {},
   "outputs": [],
   "source": [
    "import sympy as sym\n",
    "from sympy import *\n",
    "import numpy as np\n",
    "import matplotlib.pyplot as plt"
   ]
  },
  {
   "cell_type": "markdown",
   "id": "675e837d",
   "metadata": {},
   "source": [
    "# Symbolic Differentiation\n",
    "DESCRIPTION: Introduction to using Python to solve some calculus problems.\n",
    "\n",
    "From [Section 3.1 : The Definition of the Derivative](https://tutorial.math.lamar.edu/Problems/CalcI/DefnOfDerivative.aspx)\n",
    "\n",
    "Problem 11:\n",
    "$$\n",
    "f\\left( x \\right) = \\sqrt {1 - 9x}\n",
    "$$\n",
    "\n",
    "You can verify the results at https://www.derivative-calculator.net/ by entering `sqrt(1 - 9*x)`"
   ]
  },
  {
   "cell_type": "code",
   "execution_count": 8,
   "id": "2ec2378a",
   "metadata": {},
   "outputs": [
    {
     "data": {
      "text/latex": [
       "$\\displaystyle - \\frac{9}{2 \\sqrt{1 - 9 x}}$"
      ],
      "text/plain": [
       "-9/(2*sqrt(1 - 9*x))"
      ]
     },
     "execution_count": 8,
     "metadata": {},
     "output_type": "execute_result"
    }
   ],
   "source": [
    "# Define the function in Sympy.\n",
    "x, y, z = symbols('x y z')\n",
    "diff(sqrt(1 - 9*x), x)"
   ]
  },
  {
   "cell_type": "markdown",
   "id": "87ca2bae",
   "metadata": {},
   "source": [
    "# Symbolic Integration\n",
    "\n",
    "[Section 5.8 : Substitution Rule for Definite Integrals](https://tutorial.math.lamar.edu/Problems/CalcI/SubstitutionRuleDefinite.aspx)\n",
    "\n",
    "Problem 10:\n",
    "$$\n",
    "\\int_{{ - 2}}^{1}{{{{\\left( {2 - z} \\right)}^3} + \\sin \\left( {\\pi z} \\right){{\\left[ {3 + 2\\cos \\left( {\\pi z} \\right)} \\right]}^3}\\,dz}}\n",
    "$$"
   ]
  },
  {
   "cell_type": "code",
   "execution_count": 20,
   "id": "50716645",
   "metadata": {},
   "outputs": [
    {
     "data": {
      "text/latex": [
       "$\\displaystyle \\frac{- \\pi \\left(z - 2\\right)^{4} + 108 \\sin^{2}{\\left(\\pi z \\right)} - 8 \\cos^{4}{\\left(\\pi z \\right)} - 48 \\cos^{3}{\\left(\\pi z \\right)} - 108 \\cos{\\left(\\pi z \\right)}}{4 \\pi}$"
      ],
      "text/plain": [
       "(-pi*(z - 2)**4 + 108*sin(pi*z)**2 - 8*cos(pi*z)**4 - 48*cos(pi*z)**3 - 108*cos(pi*z))/(4*pi)"
      ]
     },
     "execution_count": 20,
     "metadata": {},
     "output_type": "execute_result"
    }
   ],
   "source": [
    "x, y, z = symbols('x y z')\n",
    "f = (2-z)**3 + sin(pi * z)*(3 + 2*cos(pi * z))**3\n",
    "intf = simplify(integrate(f, z))\n",
    "intf"
   ]
  },
  {
   "cell_type": "code",
   "execution_count": 22,
   "id": "7dd9a3f3",
   "metadata": {},
   "outputs": [
    {
     "data": {
      "text/latex": [
       "$\\displaystyle 88.5781711223357$"
      ],
      "text/plain": [
       "88.5781711223357"
      ]
     },
     "execution_count": 22,
     "metadata": {},
     "output_type": "execute_result"
    }
   ],
   "source": [
    "intf.evalf(subs={z:1}) - intf.evalf(subs={z:-2})"
   ]
  },
  {
   "cell_type": "code",
   "execution_count": 29,
   "id": "d6acca59",
   "metadata": {},
   "outputs": [
    {
     "data": {
      "text/latex": [
       "$\\displaystyle \\frac{78}{\\pi} + \\frac{255}{4}$"
      ],
      "text/plain": [
       "78/pi + 255/4"
      ]
     },
     "execution_count": 29,
     "metadata": {},
     "output_type": "execute_result"
    }
   ],
   "source": [
    "# Problem 10 shows this to be the solution\n",
    "solution = Rational(255,4) + 78/pi\n",
    "solution"
   ]
  },
  {
   "cell_type": "code",
   "execution_count": 30,
   "id": "25678fdd",
   "metadata": {},
   "outputs": [
    {
     "data": {
      "text/latex": [
       "$\\displaystyle 88.5781711223357$"
      ],
      "text/plain": [
       "88.5781711223357"
      ]
     },
     "execution_count": 30,
     "metadata": {},
     "output_type": "execute_result"
    }
   ],
   "source": [
    "N(solution)"
   ]
  },
  {
   "cell_type": "markdown",
   "id": "dfbee77c",
   "metadata": {},
   "source": [
    "# Green's Theorem\n",
    "You are not going to see this until Calculus III at the university, but this is just a demo on how to tell the computer to solve a problem symbolically or computationally. Plus, there is the really cool site **Paul's Online Notes** that can be helpful for the ambitious.\n",
    "\n",
    "[Section 16.7 : Green's Theorem](https://tutorial.math.lamar.edu/Problems/CalcIII/GreensTheorem.aspx)\n",
    "\n",
    "$$\n",
    "\\oint_{C}{{\\left( {x{y^2} + {x^2}} \\right)\\,dx + \\left( {4x - 1} \\right)\\,dy}}\n",
    "$$\n"
   ]
  },
  {
   "cell_type": "code",
   "execution_count": 31,
   "id": "4a6699cb",
   "metadata": {},
   "outputs": [],
   "source": [
    "# First we convert the closed integral into a double integral\n",
    "x, y, z = symbols('x y z')\n",
    "# Will finish later"
   ]
  },
  {
   "cell_type": "code",
   "execution_count": null,
   "id": "cdc8fb26",
   "metadata": {},
   "outputs": [],
   "source": []
  }
 ],
 "metadata": {
  "kernelspec": {
   "display_name": "Python 3 (ipykernel)",
   "language": "python",
   "name": "python3"
  },
  "language_info": {
   "codemirror_mode": {
    "name": "ipython",
    "version": 3
   },
   "file_extension": ".py",
   "mimetype": "text/x-python",
   "name": "python",
   "nbconvert_exporter": "python",
   "pygments_lexer": "ipython3",
   "version": "3.10.7"
  }
 },
 "nbformat": 4,
 "nbformat_minor": 5
}
