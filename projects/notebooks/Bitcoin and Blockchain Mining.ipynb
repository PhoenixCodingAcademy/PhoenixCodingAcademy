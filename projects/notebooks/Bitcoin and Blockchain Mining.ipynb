{
 "cells": [
  {
   "cell_type": "markdown",
   "id": "4e7eff62",
   "metadata": {},
   "source": [
    "DESCRIPTION: Bitcoin Hashing\n",
    "\n",
    "# How hashing does bitcoin mining\n",
    "\n",
    "[Bitcoin](https://en.wikipedia.org/wiki/Bitcoin) uses 2 rounds of SHA-256 hashing to create its blockchains. In this page, we will do rudimentary block chains and hashing to get an idea of how the big picture works.\n",
    "\n",
    "A \"blockchain\" is a chain of blocks. Duh! So what is a \"block\" and what is a \"chain\"?\n",
    "\n",
    "As per [what is a block](https://www.investopedia.com/terms/b/block-bitcoin-block.asp), a block is an array of bytes (can be a string) that contains:\n",
    "* ID of previous block.\n",
    "* A nonce, or \"number used just once\" (in this case an integer)\n",
    "* The size of a block. We'll just make it any size.\n",
    "* [A Merkle Hash Root](https://en.wikipedia.org/wiki/Merkle_tree)\n"
   ]
  },
  {
   "cell_type": "code",
   "execution_count": 34,
   "id": "50ab8522",
   "metadata": {},
   "outputs": [],
   "source": [
    "import hashlib\n",
    "from dataclasses import dataclass\n",
    "\n",
    "def hash(s):\n",
    "    '''Return the hash of string @s'''\n",
    "    m = hashlib.sha256()\n",
    "    m.update(s.encode(\"utf-8\"))\n",
    "    m.digest()\n",
    "    return m.hexdigest()\n",
    "    \n",
    "def tprint(s):\n",
    "    print(f\"{s:<10} {hash(s)}\")"
   ]
  },
  {
   "cell_type": "code",
   "execution_count": 90,
   "id": "b53ec215",
   "metadata": {},
   "outputs": [
    {
     "name": "stdout",
     "output_type": "stream",
     "text": [
      "hello      2cf24dba5fb0a30e26e83b2ac5b9e29e1b161e5c1fa7425e73043362938b9824\n",
      "hellp      fdd7585e08c4e2afd71dcabdb4636c89d557a3f42db9e2040c8bbd1708aa4ce7\n",
      "hell       0ebdc3317b75839f643387d783535adc360ca01f33c75f7c1e7373adcd675c0b\n",
      "ello       fcba366c2ebf76bf96fe5a737e4a5350bb54ba224e909c06e97e79e8f5e5ffe5\n",
      "Dagny      0e87288a44b37942ada3e77dee15273f31910913472e691f815827d8a7dee4d1\n"
     ]
    }
   ],
   "source": [
    "# Test hash\n",
    "tprint('hello')\n",
    "tprint('hellp')\n",
    "tprint('hell')\n",
    "tprint('ello')\n",
    "tprint('Dagny')\n",
    "\n",
    "# Notice that:\n",
    "# - the length of the hash is 64 hex characters; i.e. 256 / 4 = 64; e.g. 4-bits per hex character.\n",
    "# - slight changes in the input string create completely different hashes\n",
    "# - the same hash is always created for the same string\n",
    "# - very long strings produce the same length of the hash as short string.\n",
    "# - Practically impossible to deduce the message from the hash\n",
    "# - Practically impossible to find two messages that produce the same hash; i.e. a collision."
   ]
  },
  {
   "cell_type": "code",
   "execution_count": 97,
   "id": "c2f984f6",
   "metadata": {},
   "outputs": [],
   "source": [
    "# Let's make a very over-simplified block chain, sort of similar to a bitcoin.\n",
    "# A block will be a string @s and its id. The id is the hash of the string.\n",
    "# We'll separate fields by a pipe '|'\n",
    "@dataclass\n",
    "class Block:\n",
    "    id: str  # i.e. the hash(body)\n",
    "    body: str\n",
    "        \n",
    "def makeBlock(prevId, nonce, s):\n",
    "    s = f\"{prevId}|{nonce}|{s}\"\n",
    "    id = hash(s)\n",
    "    return Block(id, s)\n",
    "\n",
    "def pblock(block):\n",
    "    '''Print a block nicely'''\n",
    "    print(f\"\"\"\n",
    "body: \"{block.body}\"\n",
    "  id: {block.id}\"\"\")\n",
    "    "
   ]
  },
  {
   "cell_type": "code",
   "execution_count": 98,
   "id": "1ec4235b",
   "metadata": {},
   "outputs": [
    {
     "name": "stdout",
     "output_type": "stream",
     "text": [
      "\n",
      "body: \"|123|Once upon a midnight dreary, while I pondered, weak and weary,\"\n",
      "  id: 5417fba7f067b2c990c171f822ea8ad7ef24c9b8656941db7421b91e87c33ca9\n",
      "\n",
      "body: \"5417fba7f067b2c990c171f822ea8ad7ef24c9b8656941db7421b91e87c33ca9|999|Over many a quaint and curious volume of forgotten lore\"\n",
      "  id: 82d395f3bc97cafb0c040c56283efb4cf3801e57f9608884c1ca1c8daf47d9c1\n",
      "\n",
      "body: \"82d395f3bc97cafb0c040c56283efb4cf3801e57f9608884c1ca1c8daf47d9c1|999|While I nodded, nearly napping, suddenly there came a tapping,\"\n",
      "  id: f55fbc98fc8b173980634cc034d5136252cca60eeee134d11e97f30df0599bea\n",
      "\n",
      "body: \"f55fbc98fc8b173980634cc034d5136252cca60eeee134d11e97f30df0599bea|1|As of some one gently rapping, rapping at my chamber door.\"\n",
      "  id: b07a8665af1c4fd77fd01628f00db8427c09fe42372cce21aa079186371cf25e\n",
      "\n",
      "body: \"f55fbc98fc8b173980634cc034d5136252cca60eeee134d11e97f30df0599bea|2|As of some one gently rapping, rapping at my chamber door.\"\n",
      "  id: 13ab7e683f451b1ab7688729dd81de023f3a212ba5f9084279e4894c3b60cd0d\n",
      "\n",
      "body: \"f55fbc98fc8b173980634cc034d5136252cca60eeee134d11e97f30df0599bea|3|As of some one gently rapping, rapping at my chamber door.\"\n",
      "  id: f03a5476e0f1e07026ac07ff39b6f1961d6c7d8412f7ac79b705bf66ea921160\n",
      "\n",
      "Notice that the last three blocks only differ by the nonce.\n"
     ]
    }
   ],
   "source": [
    "# Now let's make a block chain:\n",
    "\n",
    "blocks = []\n",
    "blocks.append(makeBlock('', 123, \"Once upon a midnight dreary, while I pondered, weak and weary,\"))\n",
    "blocks.append(makeBlock(blocks[0].id, 999, \"Over many a quaint and curious volume of forgotten lore\"))\n",
    "blocks.append(makeBlock(blocks[1].id, 999, \"While I nodded, nearly napping, suddenly there came a tapping,\"))\n",
    "blocks.append(makeBlock(blocks[2].id, 1, \"As of some one gently rapping, rapping at my chamber door.\"))\n",
    "blocks.append(makeBlock(blocks[2].id, 2, \"As of some one gently rapping, rapping at my chamber door.\"))\n",
    "blocks.append(makeBlock(blocks[2].id, 3, \"As of some one gently rapping, rapping at my chamber door.\"))\n",
    "\n",
    "for block in blocks:\n",
    "  pblock(block)\n",
    "\n",
    "print('\\nNotice that the last three blocks only differ by the nonce.')\n"
   ]
  },
  {
   "cell_type": "code",
   "execution_count": 99,
   "id": "6a11d563",
   "metadata": {},
   "outputs": [
    {
     "name": "stdout",
     "output_type": "stream",
     "text": [
      "13ab7e683f451b1ab7688729dd81de023f3a212ba5f9084279e4894c3b60cd0d\n",
      "5417fba7f067b2c990c171f822ea8ad7ef24c9b8656941db7421b91e87c33ca9\n",
      "82d395f3bc97cafb0c040c56283efb4cf3801e57f9608884c1ca1c8daf47d9c1\n",
      "b07a8665af1c4fd77fd01628f00db8427c09fe42372cce21aa079186371cf25e\n",
      "f03a5476e0f1e07026ac07ff39b6f1961d6c7d8412f7ac79b705bf66ea921160\n",
      "f55fbc98fc8b173980634cc034d5136252cca60eeee134d11e97f30df0599bea\n"
     ]
    }
   ],
   "source": [
    "# So what is this nonce thingy?\n",
    "# Well, mining is the act of finding the smallest hash for a block by varying only the nonce.\n",
    "# We can't change the prevId or the message, so the nonce is all we can change.\n",
    "# But what does it mean smallest hash? We can compare hashes like we can any two strings lexically; e.g \n",
    "# \"cat\" comes before \"dog\", which comes before \"doggy\"\n",
    "\n",
    "# Let's sort the blocks above by id:\n",
    "for block in sorted(blocks, key=lambda x: x.id):\n",
    "    print(block.id)\n",
    "    \n",
    "# You can see that we can compare ids. The first id in the list is less than the next ones that follow."
   ]
  },
  {
   "cell_type": "code",
   "execution_count": 105,
   "id": "ef91bc7e",
   "metadata": {},
   "outputs": [
    {
     "name": "stdout",
     "output_type": "stream",
     "text": [
      "\n",
      "Mining took 1843501 iterations.\n",
      "Block(id='00000812cb6a1a689d3133059b9d1094ee89f24e5d3a04c437577c98610809c2', body='|1843501|Attack at dawn!')\n",
      "\n",
      "Mining took 1538109 iterations.\n",
      "Block(id='000009a3a0a3967f3cdb75ecd849a187aa4a56c4a3cfea7df0926e98f26b6f2a', body='00000812cb6a1a689d3133059b9d1094ee89f24e5d3a04c437577c98610809c2|1538109|One if by land!')\n",
      "\n",
      "Mining took 1155651 iterations.\n",
      "Block(id='00000042d3ae363186cbcbeb22d879c63103de29676b81f0c26e3a58d671994a', body='000009a3a0a3967f3cdb75ecd849a187aa4a56c4a3cfea7df0926e98f26b6f2a|1155651|Two if by sea!')\n"
     ]
    }
   ],
   "source": [
    "# Mining is the act of changing the nonce of a block until we get an id that is less than some value,\n",
    "# called the \"mining difficulty\". Let's start with a simple difficulty:\n",
    "\n",
    "difficulty = \"00000F\" # means we will only accept id's that are less than this value:\n",
    "\n",
    "# Let's start mining\n",
    "\n",
    "def mine(prevId, message):\n",
    "    nonce = 0\n",
    "    while (True):\n",
    "        block = makeBlock(prevId, nonce, message)\n",
    "        #print(f\"{nonce:>4} {block}\")\n",
    "        if block.id <= difficulty:\n",
    "            break\n",
    "        nonce += 1\n",
    "    print(f\"\\nMining took {nonce} iterations.\")\n",
    "    return block\n",
    "    \n",
    "block = mine(\"\", \"Attack at dawn!\")\n",
    "print(block)\n",
    "\n",
    "block = mine(block.id, \"One if by land!\")\n",
    "print(block)\n",
    "\n",
    "\n",
    "block = mine(block.id, \"Two if by sea!\")\n",
    "print(block)\n"
   ]
  },
  {
   "cell_type": "code",
   "execution_count": null,
   "id": "1276199c",
   "metadata": {},
   "outputs": [],
   "source": []
  }
 ],
 "metadata": {
  "kernelspec": {
   "display_name": "Python 3 (ipykernel)",
   "language": "python",
   "name": "python3"
  },
  "language_info": {
   "codemirror_mode": {
    "name": "ipython",
    "version": 3
   },
   "file_extension": ".py",
   "mimetype": "text/x-python",
   "name": "python",
   "nbconvert_exporter": "python",
   "pygments_lexer": "ipython3",
   "version": "3.10.7"
  }
 },
 "nbformat": 4,
 "nbformat_minor": 5
}
