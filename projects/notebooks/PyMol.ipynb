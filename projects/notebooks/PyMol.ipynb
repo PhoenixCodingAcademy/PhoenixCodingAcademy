{
 "cells": [
  {
   "cell_type": "markdown",
   "id": "fa4d746f",
   "metadata": {},
   "source": [
    "DESCRIPTION: Model a molecule in 3D\n",
    "\n",
    "# Molecule\n",
    "\n",
    "* You can search for compounds on the [PubChem](https://pubchem.ncbi.nlm.nih.gov/)\n",
    "\n"
   ]
  },
  {
   "cell_type": "code",
   "execution_count": 16,
   "id": "063b3260",
   "metadata": {},
   "outputs": [
    {
     "name": "stdout",
     "output_type": "stream",
     "text": [
      "Version ('2.6.0a0', 2.004, 2004000, 1655956337, '', 0)\n"
     ]
    },
    {
     "ename": "CmdException",
     "evalue": " Error: failed to open file \"2244.pdb\"",
     "output_type": "error",
     "traceback": [
      "\u001b[1;31m---------------------------------------------------------------------------\u001b[0m",
      "\u001b[1;31mFileNotFoundError\u001b[0m                         Traceback (most recent call last)",
      "File \u001b[1;32mD:\\Python\\lib\\site-packages\\pymol\\internal.py:293\u001b[0m, in \u001b[0;36mfile_read\u001b[1;34m(finfo, _self)\u001b[0m\n\u001b[0;32m    292\u001b[0m \u001b[38;5;28;01melse\u001b[39;00m:\n\u001b[1;32m--> 293\u001b[0m     handle \u001b[38;5;241m=\u001b[39m \u001b[38;5;28;43mopen\u001b[39;49m\u001b[43m(\u001b[49m\u001b[43mfinfo\u001b[49m\u001b[43m,\u001b[49m\u001b[43m \u001b[49m\u001b[38;5;124;43m'\u001b[39;49m\u001b[38;5;124;43mrb\u001b[39;49m\u001b[38;5;124;43m'\u001b[39;49m\u001b[43m)\u001b[49m\n\u001b[0;32m    294\u001b[0m contents \u001b[38;5;241m=\u001b[39m handle\u001b[38;5;241m.\u001b[39mread()\n",
      "\u001b[1;31mFileNotFoundError\u001b[0m: [Errno 2] No such file or directory: '2244.pdb'",
      "\nDuring handling of the above exception, another exception occurred:\n",
      "\u001b[1;31mCmdException\u001b[0m                              Traceback (most recent call last)",
      "Cell \u001b[1;32mIn [16], line 18\u001b[0m\n\u001b[0;32m     14\u001b[0m cmd\u001b[38;5;241m.\u001b[39mset(\u001b[38;5;124m'\u001b[39m\u001b[38;5;124mfetch_host\u001b[39m\u001b[38;5;124m'\u001b[39m, \u001b[38;5;124m'\u001b[39m\u001b[38;5;124mpdb\u001b[39m\u001b[38;5;124m'\u001b[39m)\n\u001b[0;32m     16\u001b[0m \u001b[38;5;66;03m# Load the molecule from PubChem\u001b[39;00m\n\u001b[0;32m     17\u001b[0m \u001b[38;5;66;03m#cmd.fetch(f\"{cid}\")\u001b[39;00m\n\u001b[1;32m---> 18\u001b[0m \u001b[43mcmd\u001b[49m\u001b[38;5;241;43m.\u001b[39;49m\u001b[43mload\u001b[49m\u001b[43m(\u001b[49m\u001b[38;5;124;43mf\u001b[39;49m\u001b[38;5;124;43m\"\u001b[39;49m\u001b[38;5;132;43;01m{\u001b[39;49;00m\u001b[43mcid\u001b[49m\u001b[38;5;132;43;01m}\u001b[39;49;00m\u001b[38;5;124;43m.pdb\u001b[39;49m\u001b[38;5;124;43m\"\u001b[39;49m\u001b[43m)\u001b[49m\n\u001b[0;32m     20\u001b[0m \u001b[38;5;66;03m# Orient the view\u001b[39;00m\n\u001b[0;32m     21\u001b[0m cmd\u001b[38;5;241m.\u001b[39morient()\n",
      "File \u001b[1;32mD:\\Python\\lib\\site-packages\\pymol\\importing.py:819\u001b[0m, in \u001b[0;36mload\u001b[1;34m(filename, object, state, format, finish, discrete, quiet, multiplex, zoom, partial, mimic, object_props, atom_props, _self)\u001b[0m\n\u001b[0;32m    816\u001b[0m         kw[n] \u001b[38;5;241m=\u001b[39m kw_all[n]\n\u001b[0;32m    818\u001b[0m \u001b[38;5;28;01mif\u001b[39;00m \u001b[38;5;124m'\u001b[39m\u001b[38;5;124mcontents\u001b[39m\u001b[38;5;124m'\u001b[39m \u001b[38;5;129;01min\u001b[39;00m sig\u001b[38;5;241m.\u001b[39mparameters:\n\u001b[1;32m--> 819\u001b[0m     kw[\u001b[38;5;124m'\u001b[39m\u001b[38;5;124mcontents\u001b[39m\u001b[38;5;124m'\u001b[39m] \u001b[38;5;241m=\u001b[39m \u001b[43m_self\u001b[49m\u001b[38;5;241;43m.\u001b[39;49m\u001b[43mfile_read\u001b[49m\u001b[43m(\u001b[49m\u001b[43mfilename\u001b[49m\u001b[43m)\u001b[49m\n\u001b[0;32m    821\u001b[0m \u001b[38;5;28;01mreturn\u001b[39;00m func(\u001b[38;5;241m*\u001b[39m\u001b[38;5;241m*\u001b[39mkw)\n",
      "File \u001b[1;32mD:\\Python\\lib\\site-packages\\pymol\\internal.py:297\u001b[0m, in \u001b[0;36mfile_read\u001b[1;34m(finfo, _self)\u001b[0m\n\u001b[0;32m    295\u001b[0m     handle\u001b[38;5;241m.\u001b[39mclose()\n\u001b[0;32m    296\u001b[0m \u001b[38;5;28;01mexcept\u001b[39;00m \u001b[38;5;167;01mIOError\u001b[39;00m:\n\u001b[1;32m--> 297\u001b[0m     \u001b[38;5;28;01mraise\u001b[39;00m pymol\u001b[38;5;241m.\u001b[39mCmdException(\u001b[38;5;124m'\u001b[39m\u001b[38;5;124mfailed to open file \u001b[39m\u001b[38;5;124m\"\u001b[39m\u001b[38;5;132;01m%s\u001b[39;00m\u001b[38;5;124m\"\u001b[39m\u001b[38;5;124m'\u001b[39m \u001b[38;5;241m%\u001b[39m finfo)\n\u001b[0;32m    299\u001b[0m \u001b[38;5;28;01mif\u001b[39;00m contents[:\u001b[38;5;241m2\u001b[39m] \u001b[38;5;241m==\u001b[39m \u001b[38;5;124mb\u001b[39m\u001b[38;5;124m'\u001b[39m\u001b[38;5;130;01m\\x1f\u001b[39;00m\u001b[38;5;130;01m\\x8b\u001b[39;00m\u001b[38;5;124m'\u001b[39m: \u001b[38;5;66;03m# gzip magic number\u001b[39;00m\n\u001b[0;32m    300\u001b[0m     \u001b[38;5;28;01mimport\u001b[39;00m \u001b[38;5;21;01mio\u001b[39;00m\u001b[38;5;241m,\u001b[39m \u001b[38;5;21;01mgzip\u001b[39;00m\n",
      "\u001b[1;31mCmdException\u001b[0m:  Error: failed to open file \"2244.pdb\""
     ]
    }
   ],
   "source": [
    "%matplotlib inline\n",
    "\n",
    "# pip install pymol\n",
    "\n",
    "import requests\n",
    "import pymol\n",
    "from pymol import cmd\n",
    "\n",
    "print(\"Version\", cmd.get_version())\n",
    "\n",
    "cid = 2244\n",
    "\n",
    "# Set fetch_host to a different server\n",
    "cmd.set('fetch_host', 'pdb')\n",
    "\n",
    "# Load the molecule from PubChem\n",
    "#cmd.fetch(f\"{cid}\")\n",
    "cmd.load(f\"{cid}.pdb\")\n",
    "\n",
    "# Orient the view\n",
    "cmd.orient()\n",
    "\n",
    "# Render an image and display it inside the Jupyter notebook\n",
    "cmd.ipython_image()\n"
   ]
  },
  {
   "cell_type": "code",
   "execution_count": null,
   "id": "a89f0a46",
   "metadata": {},
   "outputs": [],
   "source": []
  }
 ],
 "metadata": {
  "kernelspec": {
   "display_name": "Python 3 (ipykernel)",
   "language": "python",
   "name": "python3"
  },
  "language_info": {
   "codemirror_mode": {
    "name": "ipython",
    "version": 3
   },
   "file_extension": ".py",
   "mimetype": "text/x-python",
   "name": "python",
   "nbconvert_exporter": "python",
   "pygments_lexer": "ipython3",
   "version": "3.10.7"
  }
 },
 "nbformat": 4,
 "nbformat_minor": 5
}
