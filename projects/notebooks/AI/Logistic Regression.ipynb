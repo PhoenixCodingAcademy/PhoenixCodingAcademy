{
 "cells": [
  {
   "cell_type": "markdown",
   "id": "3a03f420-e1df-44dd-baed-1d1bd00dc6ae",
   "metadata": {},
   "source": [
    "# Logistic Regression\n",
    "Logistic Regression is about training a model on some input data (e.g. Gender, Age, Salary) and a discrete output data (e.g. Purchased, which is 0 for No and 1 for Yes). Then using some test data to see how well it works."
   ]
  },
  {
   "cell_type": "code",
   "execution_count": 6,
   "id": "f339961d-dcfc-41d2-992d-25f71f608752",
   "metadata": {},
   "outputs": [],
   "source": [
    "import numpy as np\n",
    "import matplotlib.pyplot as plt\n",
    "import pandas as pd\n",
    "import sklearn\n",
    "from sklearn.model_selection import train_test_split # scikit-learn\n",
    "from sklearn.preprocessing import StandardScaler\n",
    "from sklearn.linear_model import LogisticRegression\n",
    "from sklearn.metrics import confusion_matrix"
   ]
  },
  {
   "cell_type": "code",
   "execution_count": 7,
   "id": "2d691f97-3477-4686-aac8-6b43a00011d5",
   "metadata": {},
   "outputs": [],
   "source": [
    "# Random seed of 0 means different scenario each run. Use any other number (e.g. 123) to always return the same training results\n",
    "seed = 0"
   ]
  },
  {
   "cell_type": "code",
   "execution_count": 8,
   "id": "5f47cc96-8e88-4c2c-b0d5-07e09a72e5e1",
   "metadata": {},
   "outputs": [],
   "source": [
    "# From https://www.kaggle.com/datasets/rakeshrau/social-network-ads?resource=downloada\n",
    "# It says that given a person (Gender, Age, Salary) will they purchase the product (1) or will they not (0)\n",
    "# The first 5 rows of this text file look like this:\n",
    "'''\n",
    "User ID,Gender,Age,EstimatedSalary,Purchased\n",
    "15624510,Male,19,19000,0\n",
    "15810944,Male,35,20000,0\n",
    "15668575,Female,26,43000,0\n",
    "15603246,Female,27,57000,0\n",
    "15804002,Male,19,76000,0\n",
    "...\n",
    "'''\n",
    "\n",
    "# So let's read it into a Panda's dataframe so we can play with it using Python\n",
    "dataset = pd.read_csv('data/Social_Network_Ads.csv')"
   ]
  },
  {
   "cell_type": "code",
   "execution_count": 9,
   "id": "e211a652-386c-447b-bbb9-fcf9858ab2ef",
   "metadata": {},
   "outputs": [
    {
     "data": {
      "text/html": [
       "<div>\n",
       "<style scoped>\n",
       "    .dataframe tbody tr th:only-of-type {\n",
       "        vertical-align: middle;\n",
       "    }\n",
       "\n",
       "    .dataframe tbody tr th {\n",
       "        vertical-align: top;\n",
       "    }\n",
       "\n",
       "    .dataframe thead th {\n",
       "        text-align: right;\n",
       "    }\n",
       "</style>\n",
       "<table border=\"1\" class=\"dataframe\">\n",
       "  <thead>\n",
       "    <tr style=\"text-align: right;\">\n",
       "      <th></th>\n",
       "      <th>User ID</th>\n",
       "      <th>Gender</th>\n",
       "      <th>Age</th>\n",
       "      <th>EstimatedSalary</th>\n",
       "      <th>Purchased</th>\n",
       "    </tr>\n",
       "  </thead>\n",
       "  <tbody>\n",
       "    <tr>\n",
       "      <th>0</th>\n",
       "      <td>15624510</td>\n",
       "      <td>Male</td>\n",
       "      <td>19</td>\n",
       "      <td>19000</td>\n",
       "      <td>0</td>\n",
       "    </tr>\n",
       "    <tr>\n",
       "      <th>1</th>\n",
       "      <td>15810944</td>\n",
       "      <td>Male</td>\n",
       "      <td>35</td>\n",
       "      <td>20000</td>\n",
       "      <td>0</td>\n",
       "    </tr>\n",
       "    <tr>\n",
       "      <th>2</th>\n",
       "      <td>15668575</td>\n",
       "      <td>Female</td>\n",
       "      <td>26</td>\n",
       "      <td>43000</td>\n",
       "      <td>0</td>\n",
       "    </tr>\n",
       "    <tr>\n",
       "      <th>3</th>\n",
       "      <td>15603246</td>\n",
       "      <td>Female</td>\n",
       "      <td>27</td>\n",
       "      <td>57000</td>\n",
       "      <td>0</td>\n",
       "    </tr>\n",
       "    <tr>\n",
       "      <th>4</th>\n",
       "      <td>15804002</td>\n",
       "      <td>Male</td>\n",
       "      <td>19</td>\n",
       "      <td>76000</td>\n",
       "      <td>0</td>\n",
       "    </tr>\n",
       "  </tbody>\n",
       "</table>\n",
       "</div>"
      ],
      "text/plain": [
       "    User ID  Gender  Age  EstimatedSalary  Purchased\n",
       "0  15624510    Male   19            19000          0\n",
       "1  15810944    Male   35            20000          0\n",
       "2  15668575  Female   26            43000          0\n",
       "3  15603246  Female   27            57000          0\n",
       "4  15804002    Male   19            76000          0"
      ]
     },
     "execution_count": 9,
     "metadata": {},
     "output_type": "execute_result"
    }
   ],
   "source": [
    "# Show the first few rows\n",
    "dataset.head()"
   ]
  },
  {
   "cell_type": "code",
   "execution_count": 10,
   "id": "1b1d7606-e41b-432a-bcbc-fefefee42fe7",
   "metadata": {},
   "outputs": [
    {
     "data": {
      "text/html": [
       "<div>\n",
       "<style scoped>\n",
       "    .dataframe tbody tr th:only-of-type {\n",
       "        vertical-align: middle;\n",
       "    }\n",
       "\n",
       "    .dataframe tbody tr th {\n",
       "        vertical-align: top;\n",
       "    }\n",
       "\n",
       "    .dataframe thead th {\n",
       "        text-align: right;\n",
       "    }\n",
       "</style>\n",
       "<table border=\"1\" class=\"dataframe\">\n",
       "  <thead>\n",
       "    <tr style=\"text-align: right;\">\n",
       "      <th></th>\n",
       "      <th>User ID</th>\n",
       "      <th>Gender</th>\n",
       "      <th>Age</th>\n",
       "      <th>EstimatedSalary</th>\n",
       "      <th>Purchased</th>\n",
       "    </tr>\n",
       "  </thead>\n",
       "  <tbody>\n",
       "    <tr>\n",
       "      <th>0</th>\n",
       "      <td>15624510</td>\n",
       "      <td>0</td>\n",
       "      <td>19</td>\n",
       "      <td>19000</td>\n",
       "      <td>0</td>\n",
       "    </tr>\n",
       "    <tr>\n",
       "      <th>1</th>\n",
       "      <td>15810944</td>\n",
       "      <td>0</td>\n",
       "      <td>35</td>\n",
       "      <td>20000</td>\n",
       "      <td>0</td>\n",
       "    </tr>\n",
       "    <tr>\n",
       "      <th>2</th>\n",
       "      <td>15668575</td>\n",
       "      <td>1</td>\n",
       "      <td>26</td>\n",
       "      <td>43000</td>\n",
       "      <td>0</td>\n",
       "    </tr>\n",
       "    <tr>\n",
       "      <th>3</th>\n",
       "      <td>15603246</td>\n",
       "      <td>1</td>\n",
       "      <td>27</td>\n",
       "      <td>57000</td>\n",
       "      <td>0</td>\n",
       "    </tr>\n",
       "    <tr>\n",
       "      <th>4</th>\n",
       "      <td>15804002</td>\n",
       "      <td>0</td>\n",
       "      <td>19</td>\n",
       "      <td>76000</td>\n",
       "      <td>0</td>\n",
       "    </tr>\n",
       "  </tbody>\n",
       "</table>\n",
       "</div>"
      ],
      "text/plain": [
       "    User ID  Gender  Age  EstimatedSalary  Purchased\n",
       "0  15624510       0   19            19000          0\n",
       "1  15810944       0   35            20000          0\n",
       "2  15668575       1   26            43000          0\n",
       "3  15603246       1   27            57000          0\n",
       "4  15804002       0   19            76000          0"
      ]
     },
     "execution_count": 10,
     "metadata": {},
     "output_type": "execute_result"
    }
   ],
   "source": [
    "# Convert the Gender column from {'Male', 'Female'} into {0, 1}\n",
    "dataset['Gender'] = dataset['Gender'].map(dict(zip(['Male','Female'],[0,1])))\n",
    "dataset.head()"
   ]
  },
  {
   "cell_type": "code",
   "execution_count": 11,
   "id": "5b7492b6-1729-4d37-a384-078783c4f29d",
   "metadata": {},
   "outputs": [],
   "source": [
    "# Define which columns will be the imput\n",
    "X = dataset[['Gender', 'Age', 'EstimatedSalary']]\n",
    "\n",
    "# Define which columns will be the output\n",
    "Y = dataset[['Purchased']]"
   ]
  },
  {
   "cell_type": "code",
   "execution_count": 12,
   "id": "8e7e84cb-176a-473b-8834-7a5f9bade995",
   "metadata": {},
   "outputs": [],
   "source": [
    "# Split the dataset into 75% random columns for testing and the remaining 25% for testing\n",
    "x_train, x_test, y_train, y_test = train_test_split(X, Y, test_size=0.25, random_state=seed)"
   ]
  },
  {
   "cell_type": "code",
   "execution_count": 13,
   "id": "31fde8a7-cc26-48d4-b846-21d66663ca54",
   "metadata": {},
   "outputs": [
    {
     "name": "stdout",
     "output_type": "stream",
     "text": [
      "\n",
      "Number of rows in each partition:\n",
      "  x_train = 300 people\n",
      "  x_test  = 100 people\n",
      "  y_train = 300 people where 111 purchased the product\n",
      "  y_test  = 100 people where 32 purchased the product\n",
      "\n"
     ]
    }
   ],
   "source": [
    "print(f\"\"\"\n",
    "Number of rows in each partition:\n",
    "  x_train = {len(x_train)} people\n",
    "  x_test  = {len(x_test)} people\n",
    "  y_train = {len(y_train)} people where {len(y_train[y_train['Purchased'] == 1])} purchased the product\n",
    "  y_test  = {len(y_test)} people where {len(y_test[y_test['Purchased'] == 1])} purchased the product\n",
    "\"\"\")"
   ]
  },
  {
   "cell_type": "code",
   "execution_count": 14,
   "id": "27c45e3f-27ba-4a5e-aea2-8063c42738e3",
   "metadata": {},
   "outputs": [
    {
     "data": {
      "text/plain": [
       "array([[ 0.98019606,  0.58164944, -0.88670699],\n",
       "       [-1.02020406, -0.60673761,  1.46173768],\n",
       "       [ 0.98019606, -0.01254409, -0.5677824 ],\n",
       "       [ 0.98019606, -0.60673761,  1.89663484],\n",
       "       [ 0.98019606,  1.37390747, -1.40858358]])"
      ]
     },
     "execution_count": 14,
     "metadata": {},
     "output_type": "execute_result"
    }
   ],
   "source": [
    "# Scale the data so that the range of one column in the input does not over-shadow another column of a different range.\n",
    "sc = StandardScaler()\n",
    "x_train = sc.fit_transform(x_train)\n",
    "x_test = sc.fit_transform(x_test)\n",
    "\n",
    "# Show first 5 rows\n",
    "x_train[:5]\n",
    "\n",
    "# Notice that x_train is no longer a dataframe but an array of arrays; e.g. an array of 300 rows, where each row is an \n",
    "# array of 3 numbers to represent the scaled 'Gender', 'Age', 'EstimatedSalary' columns."
   ]
  },
  {
   "cell_type": "code",
   "execution_count": 15,
   "id": "792bad46-aa8b-424d-8263-5a094f089416",
   "metadata": {},
   "outputs": [
    {
     "data": {
      "text/plain": [
       "array([0, 1, 0, 1, 1, 1, 0, 0, 0, 0, 0, 0, 1, 1, 1, 0, 1, 0, 0, 1, 0, 1,\n",
       "       0, 1, 0, 0, 1, 1, 1, 1, 0, 1, 0, 1, 0, 0, 1, 0, 0, 1, 0, 0, 0, 0,\n",
       "       0, 1, 1, 1, 1, 0, 0, 0, 1, 0, 1, 0, 1, 0, 0, 1, 0, 0, 0, 1, 0, 0,\n",
       "       0, 1, 1, 0, 0, 1, 0, 1, 1, 1, 0, 0, 1, 1, 0, 0, 1, 1, 0, 1, 0, 0,\n",
       "       1, 1, 0, 1, 1, 1, 0, 0, 0, 0, 0, 1, 0, 0, 1, 1, 1, 1, 1, 0, 1, 1,\n",
       "       0, 1, 0, 0, 0, 0, 0, 0, 0, 1, 1, 0, 0, 1, 0, 0, 1, 0, 0, 0, 1, 0,\n",
       "       1, 1, 0, 1, 0, 0, 0, 0, 1, 0, 0, 0, 1, 1, 0, 0, 0, 0, 1, 0, 1, 0,\n",
       "       0, 0, 1, 0, 0, 0, 0, 1, 1, 1, 0, 0, 0, 0, 0, 0, 1, 1, 1, 1, 1, 0,\n",
       "       1, 0, 0, 0, 0, 0, 1, 0, 0, 0, 0, 0, 0, 1, 1, 0, 1, 0, 1, 0, 0, 1,\n",
       "       0, 0, 0, 1, 0, 0, 0, 0, 0, 1, 0, 0, 0, 0, 0, 1, 0, 1, 1, 0, 0, 0,\n",
       "       0, 0, 0, 1, 1, 0, 0, 0, 0, 1, 0, 0, 0, 0, 1, 0, 1, 0, 1, 0, 0, 0,\n",
       "       1, 0, 0, 0, 1, 0, 1, 0, 0, 0, 0, 0, 1, 1, 0, 0, 0, 0, 0, 1, 0, 1,\n",
       "       1, 0, 0, 0, 0, 0, 1, 0, 1, 0, 0, 1, 0, 0, 1, 0, 1, 0, 0, 0, 0, 0,\n",
       "       0, 1, 1, 1, 1, 0, 0, 0, 0, 1, 0, 0, 0, 0], dtype=int64)"
      ]
     },
     "execution_count": 15,
     "metadata": {},
     "output_type": "execute_result"
    }
   ],
   "source": [
    "# The training functions work on arrays; not dataframes, so we need to convert t_train to an array\n",
    "# So get the values of the 0th column of y_train\n",
    "y_train = y_train.iloc[:, 0].values # Strange syntax eh? Read about slicing and iloc.\n",
    "y_train"
   ]
  },
  {
   "cell_type": "code",
   "execution_count": 16,
   "id": "6f9a2183-3bb4-46bf-a03c-5947abe2300f",
   "metadata": {},
   "outputs": [
    {
     "data": {
      "text/html": [
       "<style>#sk-container-id-1 {color: black;}#sk-container-id-1 pre{padding: 0;}#sk-container-id-1 div.sk-toggleable {background-color: white;}#sk-container-id-1 label.sk-toggleable__label {cursor: pointer;display: block;width: 100%;margin-bottom: 0;padding: 0.3em;box-sizing: border-box;text-align: center;}#sk-container-id-1 label.sk-toggleable__label-arrow:before {content: \"▸\";float: left;margin-right: 0.25em;color: #696969;}#sk-container-id-1 label.sk-toggleable__label-arrow:hover:before {color: black;}#sk-container-id-1 div.sk-estimator:hover label.sk-toggleable__label-arrow:before {color: black;}#sk-container-id-1 div.sk-toggleable__content {max-height: 0;max-width: 0;overflow: hidden;text-align: left;background-color: #f0f8ff;}#sk-container-id-1 div.sk-toggleable__content pre {margin: 0.2em;color: black;border-radius: 0.25em;background-color: #f0f8ff;}#sk-container-id-1 input.sk-toggleable__control:checked~div.sk-toggleable__content {max-height: 200px;max-width: 100%;overflow: auto;}#sk-container-id-1 input.sk-toggleable__control:checked~label.sk-toggleable__label-arrow:before {content: \"▾\";}#sk-container-id-1 div.sk-estimator input.sk-toggleable__control:checked~label.sk-toggleable__label {background-color: #d4ebff;}#sk-container-id-1 div.sk-label input.sk-toggleable__control:checked~label.sk-toggleable__label {background-color: #d4ebff;}#sk-container-id-1 input.sk-hidden--visually {border: 0;clip: rect(1px 1px 1px 1px);clip: rect(1px, 1px, 1px, 1px);height: 1px;margin: -1px;overflow: hidden;padding: 0;position: absolute;width: 1px;}#sk-container-id-1 div.sk-estimator {font-family: monospace;background-color: #f0f8ff;border: 1px dotted black;border-radius: 0.25em;box-sizing: border-box;margin-bottom: 0.5em;}#sk-container-id-1 div.sk-estimator:hover {background-color: #d4ebff;}#sk-container-id-1 div.sk-parallel-item::after {content: \"\";width: 100%;border-bottom: 1px solid gray;flex-grow: 1;}#sk-container-id-1 div.sk-label:hover label.sk-toggleable__label {background-color: #d4ebff;}#sk-container-id-1 div.sk-serial::before {content: \"\";position: absolute;border-left: 1px solid gray;box-sizing: border-box;top: 0;bottom: 0;left: 50%;z-index: 0;}#sk-container-id-1 div.sk-serial {display: flex;flex-direction: column;align-items: center;background-color: white;padding-right: 0.2em;padding-left: 0.2em;position: relative;}#sk-container-id-1 div.sk-item {position: relative;z-index: 1;}#sk-container-id-1 div.sk-parallel {display: flex;align-items: stretch;justify-content: center;background-color: white;position: relative;}#sk-container-id-1 div.sk-item::before, #sk-container-id-1 div.sk-parallel-item::before {content: \"\";position: absolute;border-left: 1px solid gray;box-sizing: border-box;top: 0;bottom: 0;left: 50%;z-index: -1;}#sk-container-id-1 div.sk-parallel-item {display: flex;flex-direction: column;z-index: 1;position: relative;background-color: white;}#sk-container-id-1 div.sk-parallel-item:first-child::after {align-self: flex-end;width: 50%;}#sk-container-id-1 div.sk-parallel-item:last-child::after {align-self: flex-start;width: 50%;}#sk-container-id-1 div.sk-parallel-item:only-child::after {width: 0;}#sk-container-id-1 div.sk-dashed-wrapped {border: 1px dashed gray;margin: 0 0.4em 0.5em 0.4em;box-sizing: border-box;padding-bottom: 0.4em;background-color: white;}#sk-container-id-1 div.sk-label label {font-family: monospace;font-weight: bold;display: inline-block;line-height: 1.2em;}#sk-container-id-1 div.sk-label-container {text-align: center;}#sk-container-id-1 div.sk-container {/* jupyter's `normalize.less` sets `[hidden] { display: none; }` but bootstrap.min.css set `[hidden] { display: none !important; }` so we also need the `!important` here to be able to override the default hidden behavior on the sphinx rendered scikit-learn.org. See: https://github.com/scikit-learn/scikit-learn/issues/21755 */display: inline-block !important;position: relative;}#sk-container-id-1 div.sk-text-repr-fallback {display: none;}</style><div id=\"sk-container-id-1\" class=\"sk-top-container\"><div class=\"sk-text-repr-fallback\"><pre>LogisticRegression(random_state=0)</pre><b>In a Jupyter environment, please rerun this cell to show the HTML representation or trust the notebook. <br />On GitHub, the HTML representation is unable to render, please try loading this page with nbviewer.org.</b></div><div class=\"sk-container\" hidden><div class=\"sk-item\"><div class=\"sk-estimator sk-toggleable\"><input class=\"sk-toggleable__control sk-hidden--visually\" id=\"sk-estimator-id-1\" type=\"checkbox\" checked><label for=\"sk-estimator-id-1\" class=\"sk-toggleable__label sk-toggleable__label-arrow\">LogisticRegression</label><div class=\"sk-toggleable__content\"><pre>LogisticRegression(random_state=0)</pre></div></div></div></div></div>"
      ],
      "text/plain": [
       "LogisticRegression(random_state=0)"
      ]
     },
     "execution_count": 16,
     "metadata": {},
     "output_type": "execute_result"
    }
   ],
   "source": [
    "classifier = LogisticRegression(random_state=seed)\n",
    "classifier.fit(x_train, y_train)\n",
    "# Now we have a trained model."
   ]
  },
  {
   "cell_type": "code",
   "execution_count": 17,
   "id": "06015d52-57ee-434f-9be1-62105de9f055",
   "metadata": {},
   "outputs": [],
   "source": [
    "# Let's see how well it predicts the y_test values from the x_test data.\n",
    "# The model was not trained on these \"test\" sets.\n",
    "y_pred = classifier.predict(x_test)"
   ]
  },
  {
   "cell_type": "code",
   "execution_count": 18,
   "id": "9da135c3-2d99-4897-91c5-36a9273656b2",
   "metadata": {},
   "outputs": [
    {
     "data": {
      "text/plain": [
       "array([[64,  4],\n",
       "       [ 5, 27]], dtype=int64)"
      ]
     },
     "execution_count": 18,
     "metadata": {},
     "output_type": "execute_result"
    }
   ],
   "source": [
    "# Calculate the confusion matrix; see https://en.wikipedia.org/wiki/Confusion_matrix\n",
    "# Unlike the wiki page, the results here are defined in https://scikit-learn.org/stable/modules/generated/sklearn.metrics.confusion_matrix.html\n",
    "# and look like this:\n",
    "# [[TN, FP],\n",
    "#  [TP, FN]]\n",
    "cm = confusion_matrix(y_test, y_pred)\n",
    "cm"
   ]
  },
  {
   "cell_type": "code",
   "execution_count": 19,
   "id": "8b270bb3-3704-4989-a20d-03aef7e3f5bc",
   "metadata": {},
   "outputs": [
    {
     "name": "stdout",
     "output_type": "stream",
     "text": [
      "\n",
      "TN = 64\n",
      "TP = 4\n",
      "FP = 5\n",
      "FN = 27\n",
      "\n",
      "Sensitivity     = 0.12903225806451613\n",
      "Precision       = 0.4444444444444444\n",
      "Specificity     = 0.927536231884058\n",
      "FMeasure        = 0.19999999999999998\n",
      "FPR             = 0.07246376811594202\n",
      "PV+             = 0.4444444444444444\n",
      "PV-             = 0.7032967032967034\n",
      "LikelihoodRatio = 1.780645161290323\n",
      "\n",
      "\n",
      "                           Predicted Positive (PP)            Predicted Negative (PN)\n",
      "                           --------------------------         --------------------------\n",
      "Actual Positive (P):       True  Positive (TP):   4            False Negative (FN):  27\n",
      "Actual Negative (N):       False Positive (FP):   5            True  Negative (TN):  64\n",
      "\n",
      "in other words:\n",
      "\n",
      "                           Predicted Not Purchased (PP)       Predicted Purchased (PN)\n",
      "                           --------------------------         --------------------------\n",
      "Actual Not Purchased (P):  True  Positive (TP):   4            False Negative (FN):  27\n",
      "Actual Purchased (N):      False Positive (FP):   5            True  Negative (TN):  64\n",
      "\n",
      "If you add up 64 + 4 + 5 + 27, you get the 100 test rows that we tried to predict whether the customer purchased the product or not.\n",
      "68 people in the test set (Purchased == 0) DID NOT make a purchase but 32 (Purchased == 1) did.\n",
      "Don't confuse positive and negative with purchased or not. \"Positive\" means we correctly predicted the first value in our output set, which is 0.\n",
      "Most confusion matrices are 2 X 2, but we can get 2 X N if we have N output categories; e.g. Bird, Cat, Dog, ...\n",
      "\n",
      "True Positive of 64 means we correctly predicted the first value (0);  that someone did not make a purchase.\n",
      "True Negative of 27 means we correctly predicted the second value (1); that someone did make a purchase.\n",
      "False Negative of 4 means we falsely   predicted the first value (0);  that someone did make a purchase when in fact they did not.\n",
      "False Positive of 5 means we falsely   predicted the second value (1); that someone did not make a purchase when in fact they did.\n",
      "\n"
     ]
    }
   ],
   "source": [
    "# Print the confusion matrix in a human readable form\n",
    "# NOTE: Purchased is a discrete set of two elements {0, 1} and the first value in that set is 0, so that's what we're trying to predict.\n",
    "# The confusion matrix is confusing because you want to interpret \"Positive\" with \"Purchased\", but it really means \"Not Purchased\"\n",
    "# You will see this confusion in many scientific papers so just beware and do the translation in your head.\n",
    "\n",
    "TN = cm[0][0]\n",
    "TP = cm[0][1]\n",
    "FP = cm[1][0]\n",
    "FN = cm[1][1]\n",
    "\n",
    "# Sensitivity or Recall or Total Positive Rate (TPR) of a clinical test refers to the ability of the test to correctly identify \n",
    "# those patients with the disease. A test with 100% sensitivity correctly identifies all patients with the disease. \n",
    "# A test with 80% sensitivity detects 80% of patients with the disease (true positives) but 20% with the disease go undetected (false negatives). \n",
    "# Out of all the positive classes, how much we predicted correctly. It should be high as possible.\n",
    "Sensitivity = TP/(TP+FN)\n",
    "\n",
    "# Out of all the positive classes we have predicted correctly, how many are actually positive.\n",
    "Precision = TP/(TP+FP)\n",
    "\n",
    "# The specificity of a clinical test refers to the ability of the test to correctly identify those patients without the disease. \n",
    "# Therefore, a test with 100% specificity correctly identifies all patients without the disease. A test with 80% specificity correctly \n",
    "# reports 80% of patients without the disease as test negative (true negatives) but 20% patients without the disease are incorrectly \n",
    "# identified as test positive (false positives).\n",
    "Specificity = TN/(TN+FP)\n",
    "\n",
    "# False Positive Rate\n",
    "FPR = 1 - Specificity\n",
    "\n",
    "FMeasure = 2*Sensitivity*Precision/(Sensitivity+Precision)\n",
    "\n",
    "# Predictive Value for a Positive Result\n",
    "# If the test is positive, what is the probability that the patient actually has the disease.\n",
    "PVPos = TP/(TP+FP)\n",
    "\n",
    "# Predictive Value for a Negative Result\n",
    "# If the test is negative, what is the probability that the patient actually does not have the disease.\n",
    "PVNeg = TN/(TN+FN)\n",
    "      \n",
    "LikelihoodRatio = Sensitivity/(1 - Specificity)\n",
    "\n",
    "# ROC (Receiver Operating Characteristics) curve is plotted with TPR (x-axis) against the FPR (y-axis).\n",
    "# AUC (Area Under the Curve) represents degree or measure of separability. It tells how much model is capable of distinguishing between classes. Higher the AUC, better the model is at predicting 0s as 0s and 1s as 1s. AUC = 1.0 is perfect. AUC = 0.5 is worst case. AUC < 0.5 is reciprocating the results.\n",
    "\n",
    "\n",
    "print(f\"\"\"\n",
    "TN = {TN}\n",
    "TP = {TP}\n",
    "FP = {FP}\n",
    "FN = {FN}\n",
    "\n",
    "Sensitivity     = {Sensitivity}\n",
    "Precision       = {Precision}\n",
    "Specificity     = {Specificity}\n",
    "FMeasure        = {FMeasure}\n",
    "FPR             = {FPR}\n",
    "PV+             = {PVPos}\n",
    "PV-             = {PVNeg}\n",
    "LikelihoodRatio = {LikelihoodRatio}\n",
    "\n",
    "\n",
    "                           Predicted Positive (PP)            Predicted Negative (PN)\n",
    "                           --------------------------         --------------------------\n",
    "Actual Positive (P):       True  Positive (TP): {TP:>3}            False Negative (FN): {FN:>3}\n",
    "Actual Negative (N):       False Positive (FP): {FP:>3}            True  Negative (TN): {TN:>3}\n",
    "\n",
    "in other words:\n",
    "\n",
    "                           Predicted Not Purchased (PP)       Predicted Purchased (PN)\n",
    "                           --------------------------         --------------------------\n",
    "Actual Not Purchased (P):  True  Positive (TP): {TP:>3}            False Negative (FN): {FN:>3}\n",
    "Actual Purchased (N):      False Positive (FP): {FP:>3}            True  Negative (TN): {TN:>3}\n",
    "\n",
    "If you add up 64 + 4 + 5 + 27, you get the 100 test rows that we tried to predict whether the customer purchased the product or not.\n",
    "68 people in the test set (Purchased == 0) DID NOT make a purchase but 32 (Purchased == 1) did.\n",
    "Don't confuse positive and negative with purchased or not. \"Positive\" means we correctly predicted the first value in our output set, which is 0.\n",
    "Most confusion matrices are 2 X 2, but we can get 2 X N if we have N output categories; e.g. Bird, Cat, Dog, ...\n",
    "\n",
    "True Positive of 64 means we correctly predicted the first value (0);  that someone did not make a purchase.\n",
    "True Negative of 27 means we correctly predicted the second value (1); that someone did make a purchase.\n",
    "False Negative of 4 means we falsely   predicted the first value (0);  that someone did make a purchase when in fact they did not.\n",
    "False Positive of 5 means we falsely   predicted the second value (1); that someone did not make a purchase when in fact they did.\n",
    "\"\"\")"
   ]
  },
  {
   "cell_type": "code",
   "execution_count": 23,
   "id": "219593ee-3e5e-4fe0-990d-f6314002b86f",
   "metadata": {},
   "outputs": [
    {
     "data": {
      "text/plain": [
       "<sklearn.metrics._plot.confusion_matrix.ConfusionMatrixDisplay at 0x2ec61faf350>"
      ]
     },
     "execution_count": 23,
     "metadata": {},
     "output_type": "execute_result"
    },
    {
     "data": {
      "image/png": "[encoded data removed]",
      "text/plain": [
       "<Figure size 640x480 with 2 Axes>"
      ]
     },
     "metadata": {},
     "output_type": "display_data"
    }
   ],
   "source": [
    "# Plot Confusion Matrix\n",
    "from sklearn.metrics import ConfusionMatrixDisplay, confusion_matrix\n",
    "ConfusionMatrixDisplay(cm).plot()"
   ]
  },
  {
   "cell_type": "code",
   "execution_count": 45,
   "id": "3a32443e-45b7-4077-a4cd-6662344cbf62",
   "metadata": {},
   "outputs": [
    {
     "data": {
      "image/png": "[encoded data removed]",
      "text/plain": [
       "<Figure size 640x480 with 1 Axes>"
      ]
     },
     "metadata": {},
     "output_type": "display_data"
    }
   ],
   "source": [
    "# Plot Receiver Operating Characteristics (ROC) curve\n",
    "from sklearn.metrics import RocCurveDisplay, roc_curve\n",
    "\n",
    "y_score = classifier.decision_function(x_test)\n",
    "\n",
    "fpr, tpr, thresholds = roc_curve(y_test, y_score, pos_label=classifier.classes_[1])\n",
    "roc_auc = metrics.auc(fpr, tpr)\n",
    "\n",
    "roc_display = RocCurveDisplay(fpr=fpr, tpr=tpr, roc_auc=roc_auc)\n",
    "roc_display.plot()\n",
    "plt.show()"
   ]
  },
  {
   "cell_type": "code",
   "execution_count": 44,
   "id": "0e5908d9-a836-47da-b4b7-053f41de1919",
   "metadata": {},
   "outputs": [
    {
     "data": {
      "image/png": "[encoded data removed]",
      "text/plain": [
       "<Figure size 640x480 with 1 Axes>"
      ]
     },
     "metadata": {},
     "output_type": "display_data"
    }
   ],
   "source": [
    "# Plot Receiver Operating Characteristics (ROC) curve\n",
    "from sklearn.metrics import RocCurveDisplay, roc_curve\n",
    "from sklearn import metrics\n",
    "\n",
    "y_score = classifier.decision_function(x_test)\n",
    "\n",
    "fpr, tpr, thresholds = roc_curve(y_test, y_score, pos_label=classifier.classes_[1])\n",
    "roc_auc = metrics.auc(fpr, tpr)\n",
    "roc_display = RocCurveDisplay(fpr=fpr, tpr=tpr, roc_auc=roc_auc)\n",
    "roc_display.plot()\n",
    "plt.show()"
   ]
  },
  {
   "cell_type": "code",
   "execution_count": 34,
   "id": "abe8bdc0-ecac-4b59-a6d1-26ad65a4b814",
   "metadata": {},
   "outputs": [
    {
     "data": {
      "image/png": "[encoded data removed]",
      "text/plain": [
       "<Figure size 640x480 with 1 Axes>"
      ]
     },
     "metadata": {},
     "output_type": "display_data"
    }
   ],
   "source": [
    "# Precision Recall Curve\n",
    "from sklearn.metrics import PrecisionRecallDisplay, precision_recall_curve\n",
    "\n",
    "prec, recall, _ = precision_recall_curve(y_test, y_score, pos_label=classifier.classes_[1])\n",
    "pr_display = PrecisionRecallDisplay(precision=prec, recall=recall).plot()\n",
    "plt.show()"
   ]
  },
  {
   "cell_type": "code",
   "execution_count": null,
   "id": "6b62ee13-b090-479b-a32e-73b4f3704b39",
   "metadata": {},
   "outputs": [],
   "source": []
  }
 ],
 "metadata": {
  "kernelspec": {
   "display_name": "Python 3 (ipykernel)",
   "language": "python",
   "name": "python3"
  },
  "language_info": {
   "codemirror_mode": {
    "name": "ipython",
    "version": 3
   },
   "file_extension": ".py",
   "mimetype": "text/x-python",
   "name": "python",
   "nbconvert_exporter": "python",
   "pygments_lexer": "ipython3",
   "version": "3.11.0"
  }
 },
 "nbformat": 4,
 "nbformat_minor": 5
}
