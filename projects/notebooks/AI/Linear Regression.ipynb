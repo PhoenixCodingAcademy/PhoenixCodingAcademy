{
 "cells": [
  {
   "cell_type": "markdown",
   "id": "3a03f420-e1df-44dd-baed-1d1bd00dc6ae",
   "metadata": {},
   "source": [
    "# Linear Regression\n",
    "Linear Regression is about training a model on some input data (e.g. Gender, Age) and a numeric output data (e.g. Salary). Then using some test data to see how well it works. That is, give a new input of a gender and age, can we predict the salary."
   ]
  },
  {
   "cell_type": "code",
   "execution_count": 70,
   "id": "f339961d-dcfc-41d2-992d-25f71f608752",
   "metadata": {},
   "outputs": [],
   "source": [
    "import numpy as np\n",
    "import matplotlib.pyplot as plt\n",
    "import pandas as pd\n",
    "import sklearn\n",
    "from sklearn.model_selection import train_test_split # scikit-learn\n",
    "from sklearn.preprocessing import StandardScaler\n",
    "from sklearn.linear_model import LinearRegression\n",
    "from sklearn.metrics import confusion_matrix"
   ]
  },
  {
   "cell_type": "code",
   "execution_count": 71,
   "id": "2d691f97-3477-4686-aac8-6b43a00011d5",
   "metadata": {},
   "outputs": [],
   "source": [
    "# Random seed of 0 means different scenario each run. Use any other number (e.g. 123) to always return the same training results\n",
    "seed = 0"
   ]
  },
  {
   "cell_type": "code",
   "execution_count": 72,
   "id": "5f47cc96-8e88-4c2c-b0d5-07e09a72e5e1",
   "metadata": {},
   "outputs": [
    {
     "name": "stdout",
     "output_type": "stream",
     "text": [
      "169 rows read\n"
     ]
    }
   ],
   "source": [
    "# Read in some data\n",
    "dataset = pd.read_csv('data/data.csv')\n",
    "print(f\"{len(dataset)} rows read\")"
   ]
  },
  {
   "cell_type": "code",
   "execution_count": 73,
   "id": "e211a652-386c-447b-bbb9-fcf9858ab2ef",
   "metadata": {},
   "outputs": [
    {
     "data": {
      "text/html": [
       "<div>\n",
       "<style scoped>\n",
       "    .dataframe tbody tr th:only-of-type {\n",
       "        vertical-align: middle;\n",
       "    }\n",
       "\n",
       "    .dataframe tbody tr th {\n",
       "        vertical-align: top;\n",
       "    }\n",
       "\n",
       "    .dataframe thead th {\n",
       "        text-align: right;\n",
       "    }\n",
       "</style>\n",
       "<table border=\"1\" class=\"dataframe\">\n",
       "  <thead>\n",
       "    <tr style=\"text-align: right;\">\n",
       "      <th></th>\n",
       "      <th>Duration</th>\n",
       "      <th>Pulse</th>\n",
       "      <th>Maxpulse</th>\n",
       "      <th>Calories</th>\n",
       "    </tr>\n",
       "  </thead>\n",
       "  <tbody>\n",
       "    <tr>\n",
       "      <th>0</th>\n",
       "      <td>60</td>\n",
       "      <td>110</td>\n",
       "      <td>130</td>\n",
       "      <td>409.1</td>\n",
       "    </tr>\n",
       "    <tr>\n",
       "      <th>1</th>\n",
       "      <td>60</td>\n",
       "      <td>117</td>\n",
       "      <td>145</td>\n",
       "      <td>479.0</td>\n",
       "    </tr>\n",
       "    <tr>\n",
       "      <th>2</th>\n",
       "      <td>60</td>\n",
       "      <td>103</td>\n",
       "      <td>135</td>\n",
       "      <td>340.0</td>\n",
       "    </tr>\n",
       "    <tr>\n",
       "      <th>3</th>\n",
       "      <td>45</td>\n",
       "      <td>109</td>\n",
       "      <td>175</td>\n",
       "      <td>282.4</td>\n",
       "    </tr>\n",
       "    <tr>\n",
       "      <th>4</th>\n",
       "      <td>45</td>\n",
       "      <td>117</td>\n",
       "      <td>148</td>\n",
       "      <td>406.0</td>\n",
       "    </tr>\n",
       "  </tbody>\n",
       "</table>\n",
       "</div>"
      ],
      "text/plain": [
       "   Duration  Pulse  Maxpulse  Calories\n",
       "0        60    110       130     409.1\n",
       "1        60    117       145     479.0\n",
       "2        60    103       135     340.0\n",
       "3        45    109       175     282.4\n",
       "4        45    117       148     406.0"
      ]
     },
     "execution_count": 73,
     "metadata": {},
     "output_type": "execute_result"
    }
   ],
   "source": [
    "# Show the first few rows\n",
    "dataset.head()"
   ]
  },
  {
   "cell_type": "code",
   "execution_count": 74,
   "id": "fc781a25-3cb7-4ef3-b381-49b3cf6e9aa4",
   "metadata": {},
   "outputs": [
    {
     "data": {
      "text/html": [
       "<div>\n",
       "<style scoped>\n",
       "    .dataframe tbody tr th:only-of-type {\n",
       "        vertical-align: middle;\n",
       "    }\n",
       "\n",
       "    .dataframe tbody tr th {\n",
       "        vertical-align: top;\n",
       "    }\n",
       "\n",
       "    .dataframe thead th {\n",
       "        text-align: right;\n",
       "    }\n",
       "</style>\n",
       "<table border=\"1\" class=\"dataframe\">\n",
       "  <thead>\n",
       "    <tr style=\"text-align: right;\">\n",
       "      <th></th>\n",
       "      <th>Duration</th>\n",
       "      <th>Pulse</th>\n",
       "      <th>Maxpulse</th>\n",
       "      <th>Calories</th>\n",
       "    </tr>\n",
       "  </thead>\n",
       "  <tbody>\n",
       "    <tr>\n",
       "      <th>17</th>\n",
       "      <td>45</td>\n",
       "      <td>90</td>\n",
       "      <td>112</td>\n",
       "      <td>NaN</td>\n",
       "    </tr>\n",
       "    <tr>\n",
       "      <th>27</th>\n",
       "      <td>60</td>\n",
       "      <td>103</td>\n",
       "      <td>132</td>\n",
       "      <td>NaN</td>\n",
       "    </tr>\n",
       "    <tr>\n",
       "      <th>91</th>\n",
       "      <td>45</td>\n",
       "      <td>107</td>\n",
       "      <td>137</td>\n",
       "      <td>NaN</td>\n",
       "    </tr>\n",
       "    <tr>\n",
       "      <th>118</th>\n",
       "      <td>60</td>\n",
       "      <td>105</td>\n",
       "      <td>125</td>\n",
       "      <td>NaN</td>\n",
       "    </tr>\n",
       "    <tr>\n",
       "      <th>141</th>\n",
       "      <td>60</td>\n",
       "      <td>97</td>\n",
       "      <td>127</td>\n",
       "      <td>NaN</td>\n",
       "    </tr>\n",
       "  </tbody>\n",
       "</table>\n",
       "</div>"
      ],
      "text/plain": [
       "     Duration  Pulse  Maxpulse  Calories\n",
       "17         45     90       112       NaN\n",
       "27         60    103       132       NaN\n",
       "91         45    107       137       NaN\n",
       "118        60    105       125       NaN\n",
       "141        60     97       127       NaN"
      ]
     },
     "execution_count": 74,
     "metadata": {},
     "output_type": "execute_result"
    }
   ],
   "source": [
    "# Are there any rows with NaN (Not a Number)? These will cause errors:\n",
    "nan_rows = dataset[dataset.isna().any(axis=1)]\n",
    "nan_rows"
   ]
  },
  {
   "cell_type": "code",
   "execution_count": 75,
   "id": "a280be0d-dc14-46a3-933b-542085a2dec1",
   "metadata": {},
   "outputs": [],
   "source": [
    "# Remove them\n",
    "# Assuming df is your DataFrame and nan_rows is the DataFrame with NaN rows\n",
    "dataset = dataset.drop(nan_rows.index)"
   ]
  },
  {
   "cell_type": "code",
   "execution_count": 76,
   "id": "5b7492b6-1729-4d37-a384-078783c4f29d",
   "metadata": {},
   "outputs": [],
   "source": [
    "# Define which columns will be the imput\n",
    "X = dataset[['Pulse']]\n",
    "\n",
    "# Define which columns will be the output\n",
    "Y = dataset[['Calories']]"
   ]
  },
  {
   "cell_type": "code",
   "execution_count": 77,
   "id": "8e7e84cb-176a-473b-8834-7a5f9bade995",
   "metadata": {},
   "outputs": [],
   "source": [
    "# Split the dataset into 75% random columns for testing and the remaining 25% for testing\n",
    "x_train, x_test, y_train, y_test = train_test_split(X, Y, test_size=0.25, random_state=seed)"
   ]
  },
  {
   "cell_type": "code",
   "execution_count": 78,
   "id": "31fde8a7-cc26-48d4-b846-21d66663ca54",
   "metadata": {},
   "outputs": [
    {
     "name": "stdout",
     "output_type": "stream",
     "text": [
      "\n",
      "Number of rows in each partition:\n",
      "  x_train =  123\n",
      "  x_test  =   41\n",
      "  y_train =  123\n",
      "  y_test  =   41\n",
      "\n"
     ]
    }
   ],
   "source": [
    "print(f\"\"\"\n",
    "Number of rows in each partition:\n",
    "  x_train = {len(x_train):>4}\n",
    "  x_test  = {len(x_test):>4}\n",
    "  y_train = {len(y_train):>4}\n",
    "  y_test  = {len(y_test):>4}\n",
    "\"\"\")"
   ]
  },
  {
   "cell_type": "code",
   "execution_count": 79,
   "id": "27c45e3f-27ba-4a5e-aea2-8063c42738e3",
   "metadata": {},
   "outputs": [
    {
     "data": {
      "text/plain": [
       "array([[ 1.20293328],\n",
       "       [-0.49127428],\n",
       "       [-0.06772239],\n",
       "       [-0.13831437],\n",
       "       [ 0.56760544]])"
      ]
     },
     "execution_count": 79,
     "metadata": {},
     "output_type": "execute_result"
    }
   ],
   "source": [
    "# Scale the data so that the range of one column in the input does not over-shadow another column of a different range.\n",
    "sc = StandardScaler()\n",
    "x_train = sc.fit_transform(x_train)\n",
    "x_test = sc.fit_transform(x_test)\n",
    "\n",
    "# Show first 5 rows\n",
    "x_train[:5]\n",
    "\n",
    "# Notice that x_train is no longer a dataframe but an array of arrays; e.g. an array of 300 rows, where each row is an \n",
    "# array of 3 numbers to represent the scaled 'Gender', 'Age', 'EstimatedSalary' columns."
   ]
  },
  {
   "cell_type": "code",
   "execution_count": 80,
   "id": "792bad46-aa8b-424d-8263-5a094f089416",
   "metadata": {},
   "outputs": [
    {
     "data": {
      "text/plain": [
       "array([ 124.2,  329.4,  110.4,  246. ,  310.2,  251. ,  466.4,  151.1,\n",
       "        384. ,  380.3,  500. ,  382. ,  328. ,  800.4,  275. ,  243. ,\n",
       "        953.2,  299. , 1000.1,  563.2,  351.7,  340. , 1034.4,  242. ,\n",
       "        368.5,  273. ,  329.3,  229.4,  280.9,  500.4,  128.2,  300. ,\n",
       "        189. ,  270. ,  263. ,  368.5,  275.8,  873.4,  367.6,  443. ,\n",
       "        387.6,  643.1,  380.2,  379.3,  275.3,  334.5,  336.7,  282. ,\n",
       "        215.2,  319.2,  238. ,  500.4,  282.4,  330.4,   77.7,  374. ,\n",
       "       1115. ,  300. ,  234. ,  344.9,  345.3,  327.5,  382.8,  275. ,\n",
       "        409.1,  127.4,  400. ,  298. ,  250.7,  124. ,  300. ,  321. ,\n",
       "        400. ,  300. ,  816. ,  479. ,  308. ,  270.4,  397. ,  500.3,\n",
       "        406. ,  361.9,  323. ,  193.9,   86.2,  180.1,  300. ,  450.7,\n",
       "        339. ,  335. ,  300. ,  243. ,  277.4,  223. ,  335.4,  357.5,\n",
       "        409.4,  361. ,  180.1,  500. ,  225.3,  344. ,  332.7,  290.8,\n",
       "        304. , 1729. ,  241. ,  500. ,  240.9,  260.4,  286. , 1376. ,\n",
       "        270.8,  600.1,  700. ,   50.3,  300. ,  300. ,  269. ,  800.3,\n",
       "       1500.2,  100.7,  397.6])"
      ]
     },
     "execution_count": 80,
     "metadata": {},
     "output_type": "execute_result"
    }
   ],
   "source": [
    "# The training functions work on arrays; not dataframes, so we need to convert t_train to an array\n",
    "# So get the values of the 0th column of y_train\n",
    "y_train = y_train.iloc[:, 0].values # Strange syntax eh? Read about slicing and iloc.\n",
    "y_train"
   ]
  },
  {
   "cell_type": "code",
   "execution_count": 81,
   "id": "6f9a2183-3bb4-46bf-a03c-5947abe2300f",
   "metadata": {},
   "outputs": [
    {
     "data": {
      "text/plain": [
       "0.006476100369425364"
      ]
     },
     "execution_count": 81,
     "metadata": {},
     "output_type": "execute_result"
    }
   ],
   "source": [
    "algorithm = LinearRegression()\n",
    "algorithm.fit(x_train, y_train)\n",
    "algorithm.score(x_train, y_train)\n",
    "# Now we have a trained model."
   ]
  },
  {
   "cell_type": "code",
   "execution_count": 82,
   "id": "06015d52-57ee-434f-9be1-62105de9f055",
   "metadata": {},
   "outputs": [
    {
     "name": "stdout",
     "output_type": "stream",
     "text": [
      "\n",
      "The curve that fits the data is: [-21.02716431]\n",
      "\n",
      "Mean squared error = 81845.50\n",
      "Coefficient of determination: 1 is perfect prediction = -0.08\n",
      "\n"
     ]
    }
   ],
   "source": [
    "from sklearn.metrics import mean_squared_error, r2_score\n",
    "y_pred = algorithm.predict(x_test)\n",
    "print(f\"\"\"\n",
    "The curve that fits the data is: {algorithm.coef_}\n",
    "\n",
    "Mean squared error = {mean_squared_error(y_test, y_pred):.2f}\n",
    "Coefficient of determination: 1 is perfect prediction = {r2_score(y_test, y_pred):.2f}\n",
    "\"\"\")"
   ]
  },
  {
   "cell_type": "code",
   "execution_count": 83,
   "id": "6b62ee13-b090-479b-a32e-73b4f3704b39",
   "metadata": {},
   "outputs": [
    {
     "data": {
      "image/png": "[encoded data removed]",
      "text/plain": [
       "<Figure size 640x480 with 1 Axes>"
      ]
     },
     "metadata": {},
     "output_type": "display_data"
    }
   ],
   "source": [
    "# Plot outputs\n",
    "plt.scatter(x_test, y_test, color=\"black\")\n",
    "plt.plot(x_test, y_pred, color=\"blue\", linewidth=3)\n",
    "\n",
    "plt.xticks(())\n",
    "plt.yticks(())\n",
    "\n",
    "plt.show()"
   ]
  },
  {
   "cell_type": "code",
   "execution_count": null,
   "id": "fc627c0b-b3c3-4841-a5aa-b53f0e283f88",
   "metadata": {},
   "outputs": [],
   "source": []
  }
 ],
 "metadata": {
  "kernelspec": {
   "display_name": "Python 3 (ipykernel)",
   "language": "python",
   "name": "python3"
  },
  "language_info": {
   "codemirror_mode": {
    "name": "ipython",
    "version": 3
   },
   "file_extension": ".py",
   "mimetype": "text/x-python",
   "name": "python",
   "nbconvert_exporter": "python",
   "pygments_lexer": "ipython3",
   "version": "3.11.0"
  }
 },
 "nbformat": 4,
 "nbformat_minor": 5
}
