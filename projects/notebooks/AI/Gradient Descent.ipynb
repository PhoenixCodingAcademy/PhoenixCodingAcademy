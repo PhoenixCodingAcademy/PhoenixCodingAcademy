{
 "cells": [
  {
   "cell_type": "markdown",
   "id": "b4ac70eb-5e1f-4db3-b7e7-f3a89ad58b1f",
   "metadata": {},
   "source": [
    "# Simple Gradient Descent\n",
    "\n",
    "We have a function $f(x) = x^2 + 2x + 3$ and we want to find which value of x has the smallest value.\n",
    "It should be obvious from [THIS GRAPH](https://www.desmos.com/calculator/mplgdxl7v5) that the value is -1.\n",
    "\n",
    "But we can also solve for x where the derivative (or the slope of f(x)) is zero; e.g.\n",
    "\n",
    "$$\n",
    "\\frac{df}{dx} = 2x + 2\n",
    "$$\n",
    "\n",
    "which you can see is correct from [HERE](https://www.derivative-calculator.net/#expr=x%5E2%2B2%2Ax%2B3). Next, we set that derivative to zero and solve for x:\n",
    "\n",
    "$$2x + 2 = 0$$\n",
    "$$2x = -2$$\n",
    "$$x = -1$$\n"
   ]
  },
  {
   "cell_type": "code",
   "execution_count": 77,
   "id": "3605aaf7-3e4b-408f-829b-92e7c1bb7e62",
   "metadata": {},
   "outputs": [
    {
     "name": "stdout",
     "output_type": "stream",
     "text": [
      "\n",
      "    i               x            f(x)           df(x)     \n",
      "----- --------------- --------------- ---------------\n",
      "  607     -0.99999523      2.00000000      0.00000984\n"
     ]
    }
   ],
   "source": [
    "# A tiny step; the delta x\n",
    "h = 0.0000001\n",
    "\n",
    "# The learning rate\n",
    "r = 0.01\n",
    "\n",
    "# The function we want to minimize\n",
    "def f(x):\n",
    "    return x*x + 2*x + 3\n",
    "\n",
    "# The derivative of that function\n",
    "def df(x):\n",
    "    return (f(x+h) - f(x)) / h\n",
    "    \n",
    "# Start with any point\n",
    "x = 0\n",
    "\n",
    "print(r'''\n",
    "    i               x            f(x)           df(x)     \n",
    "----- --------------- --------------- ---------------''')\n",
    "# Repeat for a while\n",
    "lx = 1e10\n",
    "i = 0\n",
    "while True:\n",
    "    i += 1\n",
    "    fx = f(x)\n",
    "    if abs(lx - x) < 0.0000001:\n",
    "        break\n",
    "    dfx = df(x)\n",
    "    #print(f\"{i:5} {x:15.8f} {fx:15.8f} {dfx:15.8f}\")\n",
    "    lx = x\n",
    "    x = x - r * dfx\n",
    "print(f\"{i:5} {x:15.8f} {fx:15.8f} {dfx:15.8f}\")\n"
   ]
  },
  {
   "cell_type": "code",
   "execution_count": null,
   "id": "d1cde9ed-0c97-4634-af59-577bb2ca905a",
   "metadata": {},
   "outputs": [],
   "source": []
  }
 ],
 "metadata": {
  "kernelspec": {
   "display_name": "Python 3 (ipykernel)",
   "language": "python",
   "name": "python3"
  },
  "language_info": {
   "codemirror_mode": {
    "name": "ipython",
    "version": 3
   },
   "file_extension": ".py",
   "mimetype": "text/x-python",
   "name": "python",
   "nbconvert_exporter": "python",
   "pygments_lexer": "ipython3",
   "version": "3.11.0"
  }
 },
 "nbformat": 4,
 "nbformat_minor": 5
}
