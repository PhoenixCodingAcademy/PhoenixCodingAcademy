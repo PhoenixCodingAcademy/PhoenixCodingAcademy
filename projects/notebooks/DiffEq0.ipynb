{
 "cells": [
  {
   "cell_type": "markdown",
   "id": "197104ee",
   "metadata": {},
   "source": [
    "DESCRIPTION: Template for Differential Equations\n",
    "    \n",
    "# Diff Eq."
   ]
  },
  {
   "cell_type": "code",
   "execution_count": 17,
   "id": "2b1a5793",
   "metadata": {},
   "outputs": [],
   "source": [
    "import warnings\n",
    "warnings.simplefilter(action='ignore', category=FutureWarning)\n",
    "\n",
    "import numpy as np\n",
    "import pandas as pd\n",
    "import matplotlib.pyplot as plt\n",
    "\n",
    "pd.set_option(\"display.max.columns\", None)\n",
    "pd.set_option(\"display.precision\", 2)"
   ]
  },
  {
   "cell_type": "markdown",
   "id": "2b702666",
   "metadata": {},
   "source": [
    "The differential equation:\n",
    "$$\n",
    "\\frac{df}{dt} = 0\n",
    "$$\n",
    "\n",
    "The initial condition:\n",
    "$$\n",
    "f(0) = 10\n",
    "$$"
   ]
  },
  {
   "cell_type": "code",
   "execution_count": 18,
   "id": "dba5f943",
   "metadata": {},
   "outputs": [
    {
     "name": "stdout",
     "output_type": "stream",
     "text": [
      "\n",
      "     i       t          f\n",
      "------ ------- ----------\n",
      "\n",
      "     0    0.00      10.00\n",
      "     1    0.10      10.00\n",
      "     2    0.20      10.00\n",
      "     3    0.30      10.00\n",
      "     4    0.40      10.00\n",
      "     5    0.50      10.00\n",
      "     6    0.60      10.00\n",
      "     7    0.70      10.00\n",
      "     8    0.80      10.00\n",
      "     9    0.90      10.00\n",
      "    10    1.00      10.00\n",
      "    11    1.10      10.00\n",
      "    12    1.20      10.00\n",
      "    13    1.30      10.00\n",
      "    14    1.40      10.00\n",
      "    15    1.50      10.00\n",
      "    16    1.60      10.00\n",
      "    17    1.70      10.00\n",
      "    18    1.80      10.00\n",
      "    19    1.90      10.00\n",
      "    20    2.00      10.00\n",
      "    21    2.10      10.00\n",
      "    22    2.20      10.00\n",
      "    23    2.30      10.00\n",
      "    24    2.40      10.00\n",
      "    25    2.50      10.00\n",
      "    26    2.60      10.00\n",
      "    27    2.70      10.00\n",
      "    28    2.80      10.00\n",
      "    29    2.90      10.00\n",
      "    30    3.00      10.00\n",
      "    31    3.10      10.00\n",
      "    32    3.20      10.00\n",
      "    33    3.30      10.00\n",
      "    34    3.40      10.00\n",
      "    35    3.50      10.00\n",
      "    36    3.60      10.00\n",
      "    37    3.70      10.00\n",
      "    38    3.80      10.00\n",
      "    39    3.90      10.00\n",
      "    40    4.00      10.00\n",
      "    41    4.10      10.00\n",
      "    42    4.20      10.00\n",
      "    43    4.30      10.00\n",
      "    44    4.40      10.00\n",
      "    45    4.50      10.00\n",
      "    46    4.60      10.00\n",
      "    47    4.70      10.00\n",
      "    48    4.80      10.00\n",
      "    49    4.90      10.00\n",
      "    50    5.00      10.00\n",
      "    51    5.10      10.00\n",
      "    52    5.20      10.00\n",
      "    53    5.30      10.00\n",
      "    54    5.40      10.00\n",
      "    55    5.50      10.00\n",
      "    56    5.60      10.00\n",
      "    57    5.70      10.00\n",
      "    58    5.80      10.00\n",
      "    59    5.90      10.00\n",
      "    60    6.00      10.00\n",
      "    61    6.10      10.00\n",
      "    62    6.20      10.00\n",
      "    63    6.30      10.00\n",
      "    64    6.40      10.00\n",
      "    65    6.50      10.00\n",
      "    66    6.60      10.00\n",
      "    67    6.70      10.00\n",
      "    68    6.80      10.00\n",
      "    69    6.90      10.00\n",
      "    70    7.00      10.00\n",
      "    71    7.10      10.00\n",
      "    72    7.20      10.00\n",
      "    73    7.30      10.00\n",
      "    74    7.40      10.00\n",
      "    75    7.50      10.00\n",
      "    76    7.60      10.00\n",
      "    77    7.70      10.00\n",
      "    78    7.80      10.00\n",
      "    79    7.90      10.00\n",
      "    80    8.00      10.00\n",
      "    81    8.10      10.00\n",
      "    82    8.20      10.00\n",
      "    83    8.30      10.00\n",
      "    84    8.40      10.00\n",
      "    85    8.50      10.00\n",
      "    86    8.60      10.00\n",
      "    87    8.70      10.00\n",
      "    88    8.80      10.00\n",
      "    89    8.90      10.00\n",
      "    90    9.00      10.00\n",
      "    91    9.10      10.00\n",
      "    92    9.20      10.00\n",
      "    93    9.30      10.00\n",
      "    94    9.40      10.00\n",
      "    95    9.50      10.00\n",
      "    96    9.60      10.00\n",
      "    97    9.70      10.00\n",
      "    98    9.80      10.00\n",
      "    99    9.90      10.00\n"
     ]
    }
   ],
   "source": [
    "# Suppose we want to plot this equation from time = 0 to 10\n",
    "tStart = 0\n",
    "tStop = 10\n",
    "\n",
    "t = tStart\n",
    "dt = 0.1\n",
    "f = 10\n",
    "\n",
    "# For plotting\n",
    "F = []\n",
    "T = []\n",
    "\n",
    "print(f\"\"\"\n",
    "     i       t          f\n",
    "------ ------- ----------\n",
    "\"\"\")\n",
    "for i in range(int((tStop - tStart)/dt)):\n",
    "    print(f\"{i:>6} {t:>7.2f} {f:>10.2f}\")\n",
    "    F.append(f)\n",
    "    T.append(t)\n",
    "    \n",
    "    # Get the next value...\n",
    "    df = 0\n",
    "    \n",
    "    t = t + dt\n",
    "    f = f + df"
   ]
  },
  {
   "cell_type": "code",
   "execution_count": 19,
   "id": "8b1ff1b3",
   "metadata": {},
   "outputs": [
    {
     "data": {
      "image/png": "[encoded data removed]",
      "text/plain": [
       "<Figure size 640x480 with 1 Axes>"
      ]
     },
     "metadata": {},
     "output_type": "display_data"
    }
   ],
   "source": [
    "plt.plot(T, F, 'b', label=\"f\")\n",
    "plt.legend()\n",
    "plt.show()"
   ]
  },
  {
   "cell_type": "code",
   "execution_count": null,
   "id": "95cab78f",
   "metadata": {},
   "outputs": [],
   "source": []
  }
 ],
 "metadata": {
  "kernelspec": {
   "display_name": "Python 3 (ipykernel)",
   "language": "python",
   "name": "python3"
  },
  "language_info": {
   "codemirror_mode": {
    "name": "ipython",
    "version": 3
   },
   "file_extension": ".py",
   "mimetype": "text/x-python",
   "name": "python",
   "nbconvert_exporter": "python",
   "pygments_lexer": "ipython3",
   "version": "3.10.7"
  }
 },
 "nbformat": 4,
 "nbformat_minor": 5
}
