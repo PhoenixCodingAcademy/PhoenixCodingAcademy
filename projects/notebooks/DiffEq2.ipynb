{
 "cells": [
  {
   "cell_type": "markdown",
   "id": "3e9e09cb",
   "metadata": {},
   "source": [
    "DESCRIPTION: Template for Differential Equations\n",
    "    \n",
    "# Diff Eq."
   ]
  },
  {
   "cell_type": "code",
   "execution_count": 1,
   "id": "f2aecbdf",
   "metadata": {},
   "outputs": [],
   "source": [
    "import warnings\n",
    "warnings.simplefilter(action='ignore', category=FutureWarning)\n",
    "\n",
    "import numpy as np\n",
    "import pandas as pd\n",
    "import matplotlib.pyplot as plt\n",
    "\n",
    "pd.set_option(\"display.max.columns\", None)\n",
    "pd.set_option(\"display.precision\", 2)"
   ]
  },
  {
   "cell_type": "markdown",
   "id": "54fb32f0",
   "metadata": {},
   "source": [
    "The differential equation:\n",
    "$$\n",
    "\\frac{df}{dt} = f(t)\n",
    "$$\n",
    "\n",
    "The initial condition:\n",
    "$$\n",
    "f(0) = 1\n",
    "$$"
   ]
  },
  {
   "cell_type": "code",
   "execution_count": 2,
   "id": "97891ae8",
   "metadata": {},
   "outputs": [
    {
     "name": "stdout",
     "output_type": "stream",
     "text": [
      "\n",
      "     i       t          f\n",
      "------ ------- ----------\n",
      "\n",
      "     0    0.00      10.00\n",
      "     1    0.10      11.00\n",
      "     2    0.20      12.10\n",
      "     3    0.30      13.31\n",
      "     4    0.40      14.64\n",
      "     5    0.50      16.11\n",
      "     6    0.60      17.72\n",
      "     7    0.70      19.49\n",
      "     8    0.80      21.44\n",
      "     9    0.90      23.58\n",
      "    10    1.00      25.94\n",
      "    11    1.10      28.53\n",
      "    12    1.20      31.38\n",
      "    13    1.30      34.52\n",
      "    14    1.40      37.97\n",
      "    15    1.50      41.77\n",
      "    16    1.60      45.95\n",
      "    17    1.70      50.54\n",
      "    18    1.80      55.60\n",
      "    19    1.90      61.16\n",
      "    20    2.00      67.27\n",
      "    21    2.10      74.00\n",
      "    22    2.20      81.40\n",
      "    23    2.30      89.54\n",
      "    24    2.40      98.50\n",
      "    25    2.50     108.35\n",
      "    26    2.60     119.18\n",
      "    27    2.70     131.10\n",
      "    28    2.80     144.21\n",
      "    29    2.90     158.63\n",
      "    30    3.00     174.49\n",
      "    31    3.10     191.94\n",
      "    32    3.20     211.14\n",
      "    33    3.30     232.25\n",
      "    34    3.40     255.48\n",
      "    35    3.50     281.02\n",
      "    36    3.60     309.13\n",
      "    37    3.70     340.04\n",
      "    38    3.80     374.04\n",
      "    39    3.90     411.45\n",
      "    40    4.00     452.59\n",
      "    41    4.10     497.85\n",
      "    42    4.20     547.64\n",
      "    43    4.30     602.40\n",
      "    44    4.40     662.64\n",
      "    45    4.50     728.90\n",
      "    46    4.60     801.80\n",
      "    47    4.70     881.97\n",
      "    48    4.80     970.17\n",
      "    49    4.90    1067.19\n",
      "    50    5.00    1173.91\n",
      "    51    5.10    1291.30\n",
      "    52    5.20    1420.43\n",
      "    53    5.30    1562.47\n",
      "    54    5.40    1718.72\n",
      "    55    5.50    1890.59\n",
      "    56    5.60    2079.65\n",
      "    57    5.70    2287.62\n",
      "    58    5.80    2516.38\n",
      "    59    5.90    2768.01\n",
      "    60    6.00    3044.82\n",
      "    61    6.10    3349.30\n",
      "    62    6.20    3684.23\n",
      "    63    6.30    4052.65\n",
      "    64    6.40    4457.92\n",
      "    65    6.50    4903.71\n",
      "    66    6.60    5394.08\n",
      "    67    6.70    5933.49\n",
      "    68    6.80    6526.83\n",
      "    69    6.90    7179.52\n",
      "    70    7.00    7897.47\n",
      "    71    7.10    8687.22\n",
      "    72    7.20    9555.94\n",
      "    73    7.30   10511.53\n",
      "    74    7.40   11562.69\n",
      "    75    7.50   12718.95\n",
      "    76    7.60   13990.85\n",
      "    77    7.70   15389.93\n",
      "    78    7.80   16928.93\n",
      "    79    7.90   18621.82\n",
      "    80    8.00   20484.00\n",
      "    81    8.10   22532.40\n",
      "    82    8.20   24785.64\n",
      "    83    8.30   27264.21\n",
      "    84    8.40   29990.63\n",
      "    85    8.50   32989.69\n",
      "    86    8.60   36288.66\n",
      "    87    8.70   39917.53\n",
      "    88    8.80   43909.28\n",
      "    89    8.90   48300.21\n",
      "    90    9.00   53130.23\n",
      "    91    9.10   58443.25\n",
      "    92    9.20   64287.57\n",
      "    93    9.30   70716.33\n",
      "    94    9.40   77787.96\n",
      "    95    9.50   85566.76\n",
      "    96    9.60   94123.44\n",
      "    97    9.70  103535.78\n",
      "    98    9.80  113889.36\n",
      "    99    9.90  125278.29\n"
     ]
    }
   ],
   "source": [
    "# Suppose we want to plot this equation from time = 0 to 10\n",
    "tStart = 0\n",
    "tStop = 10\n",
    "\n",
    "t = tStart\n",
    "dt = 0.1\n",
    "f = 10\n",
    "\n",
    "# For plotting\n",
    "F = []\n",
    "T = []\n",
    "\n",
    "print(f\"\"\"\n",
    "     i       t          f\n",
    "------ ------- ----------\n",
    "\"\"\")\n",
    "for i in range(int((tStop - tStart)/dt)):\n",
    "    print(f\"{i:>6} {t:>7.2f} {f:>10.2f}\")\n",
    "    F.append(f)\n",
    "    T.append(t)\n",
    "    \n",
    "    # Get the next value...\n",
    "    df = f\n",
    "    \n",
    "    t = t + dt\n",
    "    f = f + df * dt"
   ]
  },
  {
   "cell_type": "code",
   "execution_count": 3,
   "id": "24f42b41",
   "metadata": {},
   "outputs": [
    {
     "data": {
      "image/png": "[encoded data removed]",
      "text/plain": [
       "<Figure size 640x480 with 1 Axes>"
      ]
     },
     "metadata": {},
     "output_type": "display_data"
    }
   ],
   "source": [
    "plt.plot(T, F, 'b', label=\"f\")\n",
    "plt.legend()\n",
    "plt.show()"
   ]
  },
  {
   "cell_type": "code",
   "execution_count": 7,
   "id": "a5c11cdc",
   "metadata": {},
   "outputs": [
    {
     "name": "stdout",
     "output_type": "stream",
     "text": [
      "The differential equation:\n"
     ]
    },
    {
     "data": {
      "text/latex": [
       "$\\displaystyle - f{\\left(t \\right)} + \\frac{d}{d t} f{\\left(t \\right)} = 0$"
      ],
      "text/plain": [
       "Eq(-f(t) + Derivative(f(t), t), 0)"
      ]
     },
     "execution_count": 7,
     "metadata": {},
     "output_type": "execute_result"
    }
   ],
   "source": [
    "# Find the actual solution analytically.\n",
    "# Here's how sympy would solve the equation if it was a calculus student in college:\n",
    "\n",
    "from sympy import symbols, solve, dsolve, simplify, factor, roots, Function, Eq, Derivative, sin\n",
    "\n",
    "f,t = symbols('f,t')\n",
    "\n",
    "# Define the unknown function\n",
    "f = Function('f')\n",
    "\n",
    "# Define the differential equation\n",
    "diffeq = Eq(f(t).diff(t) - f(t), 0)\n",
    "\n",
    "# Define initial conditions\n",
    "ic = {f(0): 0, f(t).subs(t, 0): 1}\n",
    "\n",
    "# Solve the differential equation\n",
    "sol = dsolve(diffeq, ics=ic)\n",
    "\n",
    "print(\"The differential equation:\")\n",
    "diffeq"
   ]
  },
  {
   "cell_type": "code",
   "execution_count": 8,
   "id": "bacf4c61",
   "metadata": {},
   "outputs": [
    {
     "name": "stdout",
     "output_type": "stream",
     "text": [
      "The solution:\n"
     ]
    },
    {
     "data": {
      "text/latex": [
       "$\\displaystyle f{\\left(t \\right)} = e^{t}$"
      ],
      "text/plain": [
       "Eq(f(t), exp(t))"
      ]
     },
     "metadata": {},
     "output_type": "display_data"
    }
   ],
   "source": [
    "print(\"The solution:\")\n",
    "display(sol)"
   ]
  },
  {
   "cell_type": "code",
   "execution_count": null,
   "id": "f89a8e1e",
   "metadata": {},
   "outputs": [],
   "source": []
  }
 ],
 "metadata": {
  "kernelspec": {
   "display_name": "Python 3 (ipykernel)",
   "language": "python",
   "name": "python3"
  },
  "language_info": {
   "codemirror_mode": {
    "name": "ipython",
    "version": 3
   },
   "file_extension": ".py",
   "mimetype": "text/x-python",
   "name": "python",
   "nbconvert_exporter": "python",
   "pygments_lexer": "ipython3",
   "version": "3.10.7"
  }
 },
 "nbformat": 4,
 "nbformat_minor": 5
}
