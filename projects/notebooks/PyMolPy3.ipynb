{
 "cells": [
  {
   "cell_type": "markdown",
   "id": "fa4d746f",
   "metadata": {},
   "source": [
    "DESCRIPTION: Model a molecule in 3D\n",
    "\n",
    "# Molecule\n",
    "\n",
    "* You can search for compounds on the [PubChem](https://pubchem.ncbi.nlm.nih.gov/)\n",
    "\n"
   ]
  },
  {
   "cell_type": "code",
   "execution_count": 13,
   "id": "063b3260",
   "metadata": {},
   "outputs": [],
   "source": [
    "%matplotlib inline\n",
    "\n",
    "# pip install pymol\n",
    "# pip install ipymol\n",
    "\n",
    "import requests\n",
    "import pymol\n"
   ]
  },
  {
   "cell_type": "code",
   "execution_count": 12,
   "id": "a0bbd090",
   "metadata": {},
   "outputs": [
    {
     "ename": "AttributeError",
     "evalue": "'pymolPy3' object has no attribute 'get_image'",
     "output_type": "error",
     "traceback": [
      "\u001b[1;31m---------------------------------------------------------------------------\u001b[0m",
      "\u001b[1;31mAttributeError\u001b[0m                            Traceback (most recent call last)",
      "Cell \u001b[1;32mIn [12], line 16\u001b[0m\n\u001b[0;32m     14\u001b[0m \u001b[38;5;66;03m# Render the image and display it in the notebook\u001b[39;00m\n\u001b[0;32m     15\u001b[0m pm(\u001b[38;5;124m\"\u001b[39m\u001b[38;5;124mray\u001b[39m\u001b[38;5;124m\"\u001b[39m)\n\u001b[1;32m---> 16\u001b[0m image \u001b[38;5;241m=\u001b[39m \u001b[43mpm\u001b[49m\u001b[38;5;241;43m.\u001b[39;49m\u001b[43mget_image\u001b[49m()\n\u001b[0;32m     17\u001b[0m imshow(image)\n",
      "\u001b[1;31mAttributeError\u001b[0m: 'pymolPy3' object has no attribute 'get_image'"
     ]
    }
   ],
   "source": [
    "# Import the required module\n",
    "import pymolpy3\n",
    "\n",
    "# Launch PyMOL with GUI\n",
    "pm = pymolPy3.pymolPy3()\n",
    "\n",
    "# Load a PDB structure\n",
    "pdb = '1f88'\n",
    "pm(f\"load {pdb}.pdb\")\n",
    "\n",
    "# Display the molecule as spheres\n",
    "pm(\"show spheres\")\n",
    "\n",
    "# Render the image and display it in the notebook\n",
    "pm(\"ray\")\n",
    "image = pm.get_image()\n",
    "imshow(image)\n"
   ]
  },
  {
   "cell_type": "code",
   "execution_count": 8,
   "id": "83f44f22",
   "metadata": {},
   "outputs": [
    {
     "ename": "AttributeError",
     "evalue": "'MolViewer' object has no attribute 'do'",
     "output_type": "error",
     "traceback": [
      "\u001b[1;31m---------------------------------------------------------------------------\u001b[0m",
      "\u001b[1;31mAttributeError\u001b[0m                            Traceback (most recent call last)",
      "Cell \u001b[1;32mIn [8], line 2\u001b[0m\n\u001b[0;32m      1\u001b[0m \u001b[38;5;66;03m# Fetch the water molecule from PubChem\u001b[39;00m\n\u001b[1;32m----> 2\u001b[0m \u001b[43mpm\u001b[49m\u001b[38;5;241;43m.\u001b[39;49m\u001b[43mdo\u001b[49m(\u001b[38;5;124m'\u001b[39m\u001b[38;5;124mfetch 962, async=0\u001b[39m\u001b[38;5;124m'\u001b[39m)\n\u001b[0;32m      4\u001b[0m \u001b[38;5;66;03m# Display the molecule as spheres\u001b[39;00m\n\u001b[0;32m      5\u001b[0m pm\u001b[38;5;241m.\u001b[39mdo(\u001b[38;5;124m'\u001b[39m\u001b[38;5;124mshow spheres\u001b[39m\u001b[38;5;124m'\u001b[39m)\n",
      "\u001b[1;31mAttributeError\u001b[0m: 'MolViewer' object has no attribute 'do'"
     ]
    }
   ],
   "source": [
    "# Fetch the water molecule from PubChem\n",
    "pm.do('fetch 962, async=0')\n",
    "\n",
    "# Display the molecule as spheres\n",
    "pm.do('show spheres')\n",
    "\n",
    "# Render the image and display it in the notebook\n",
    "image = pm.show()\n",
    "imshow(image)"
   ]
  },
  {
   "cell_type": "code",
   "execution_count": null,
   "id": "57ee891f",
   "metadata": {},
   "outputs": [],
   "source": []
  }
 ],
 "metadata": {
  "kernelspec": {
   "display_name": "Python 3 (ipykernel)",
   "language": "python",
   "name": "python3"
  },
  "language_info": {
   "codemirror_mode": {
    "name": "ipython",
    "version": 3
   },
   "file_extension": ".py",
   "mimetype": "text/x-python",
   "name": "python",
   "nbconvert_exporter": "python",
   "pygments_lexer": "ipython3",
   "version": "3.10.7"
  }
 },
 "nbformat": 4,
 "nbformat_minor": 5
}
