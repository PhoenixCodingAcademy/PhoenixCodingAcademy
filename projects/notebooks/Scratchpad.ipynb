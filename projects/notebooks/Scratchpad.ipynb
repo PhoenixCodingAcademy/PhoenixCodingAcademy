{
 "cells": [
  {
   "cell_type": "code",
   "execution_count": 27,
   "id": "ee3a94fe-f83c-4af5-8bdf-5ca5bdc936ba",
   "metadata": {},
   "outputs": [
    {
     "name": "stdout",
     "output_type": "stream",
     "text": [
      "32\n"
     ]
    }
   ],
   "source": [
    "import numpy\n",
    "a = [1, 2, 3]\n",
    "b = [4, 5, 6]\n",
    "print(numpy.dot(a, b))\n"
   ]
  },
  {
   "cell_type": "code",
   "execution_count": null,
   "id": "c92d8b86-b432-4f7c-bbfa-a919b31f0e4e",
   "metadata": {},
   "outputs": [],
   "source": []
  }
 ],
 "metadata": {
  "kernelspec": {
   "display_name": "Python 3 (ipykernel)",
   "language": "python",
   "name": "python3"
  },
  "language_info": {
   "codemirror_mode": {
    "name": "ipython",
    "version": 3
   },
   "file_extension": ".py",
   "mimetype": "text/x-python",
   "name": "python",
   "nbconvert_exporter": "python",
   "pygments_lexer": "ipython3",
   "version": "3.12.0"
  }
 },
 "nbformat": 4,
 "nbformat_minor": 5
}
