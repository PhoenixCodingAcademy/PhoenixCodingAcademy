{
 "cells": [
  {
   "cell_type": "markdown",
   "id": "1231d6f1",
   "metadata": {},
   "source": [
    "DESCRIPTION: Solve a three-variable simultaneous equation with numpy linear algebra."
   ]
  },
  {
   "cell_type": "code",
   "execution_count": 55,
   "id": "60d25649",
   "metadata": {},
   "outputs": [],
   "source": [
    "import sympy\n",
    "import pandas as pd\n",
    "import numpy as np\n",
    "import matplotlib.pyplot as plt"
   ]
  },
  {
   "cell_type": "markdown",
   "id": "2ab9ab0e",
   "metadata": {},
   "source": [
    "# 3-variable simultaneous equation\n",
    "Here are two online 3-variable simultaneous equations. Let's solve them with Linear Algebra:\n",
    "\n",
    "$2x+5y+2z=−38$\n",
    "\n",
    "$3x−2y+4z=17$\n",
    "\n",
    "$−6x+y−7z=−12$\n",
    "\n"
   ]
  },
  {
   "cell_type": "code",
   "execution_count": 86,
   "id": "1925cdbc",
   "metadata": {},
   "outputs": [
    {
     "name": "stdout",
     "output_type": "stream",
     "text": [
      "[[2, 5, 2], [3, -2, 4], [-6, 1, -7]]\n",
      "[-38, 17, -12]\n"
     ]
    },
    {
     "data": {
      "text/html": [
       "<div>\n",
       "<style scoped>\n",
       "    .dataframe tbody tr th:only-of-type {\n",
       "        vertical-align: middle;\n",
       "    }\n",
       "\n",
       "    .dataframe tbody tr th {\n",
       "        vertical-align: top;\n",
       "    }\n",
       "\n",
       "    .dataframe thead th {\n",
       "        text-align: right;\n",
       "    }\n",
       "</style>\n",
       "<table border=\"1\" class=\"dataframe\">\n",
       "  <thead>\n",
       "    <tr style=\"text-align: right;\">\n",
       "      <th></th>\n",
       "      <th>0</th>\n",
       "      <th>1</th>\n",
       "      <th>2</th>\n",
       "    </tr>\n",
       "  </thead>\n",
       "  <tbody>\n",
       "    <tr>\n",
       "      <th>0</th>\n",
       "      <td>2</td>\n",
       "      <td>5</td>\n",
       "      <td>2</td>\n",
       "    </tr>\n",
       "    <tr>\n",
       "      <th>1</th>\n",
       "      <td>3</td>\n",
       "      <td>-2</td>\n",
       "      <td>4</td>\n",
       "    </tr>\n",
       "    <tr>\n",
       "      <th>2</th>\n",
       "      <td>-6</td>\n",
       "      <td>1</td>\n",
       "      <td>-7</td>\n",
       "    </tr>\n",
       "  </tbody>\n",
       "</table>\n",
       "</div>"
      ],
      "text/plain": [
       "   0  1  2\n",
       "0  2  5  2\n",
       "1  3 -2  4\n",
       "2 -6  1 -7"
      ]
     },
     "execution_count": 86,
     "metadata": {},
     "output_type": "execute_result"
    }
   ],
   "source": [
    "# First, convert it to matrix notation: A X = Y\n",
    "A = [[2, 5, 2],\n",
    "     [3, -2, 4],\n",
    "     [-6, 1, -7]]\n",
    "Y = [-38, 17, -12]\n",
    "# Two methods to print it:\n",
    "print(A)\n",
    "print(Y)\n",
    "pd.DataFrame(A)"
   ]
  },
  {
   "cell_type": "code",
   "execution_count": 87,
   "id": "a87b1241",
   "metadata": {},
   "outputs": [
    {
     "data": {
      "text/latex": [
       "$\\displaystyle \\left[\\begin{matrix}2 & 5 & 2\\\\3 & -2 & 4\\\\-6 & 1 & -7\\end{matrix}\\right]$"
      ],
      "text/plain": [
       "Matrix([\n",
       "[ 2,  5,  2],\n",
       "[ 3, -2,  4],\n",
       "[-6,  1, -7]])"
      ]
     },
     "execution_count": 87,
     "metadata": {},
     "output_type": "execute_result"
    }
   ],
   "source": [
    "A = sympy.Matrix(A)\n",
    "A"
   ]
  },
  {
   "cell_type": "code",
   "execution_count": 88,
   "id": "fc8aa5a1",
   "metadata": {},
   "outputs": [
    {
     "data": {
      "text/latex": [
       "$\\displaystyle \\left[\\begin{matrix}-38\\\\17\\\\-12\\end{matrix}\\right]$"
      ],
      "text/plain": [
       "Matrix([\n",
       "[-38],\n",
       "[ 17],\n",
       "[-12]])"
      ]
     },
     "execution_count": 88,
     "metadata": {},
     "output_type": "execute_result"
    }
   ],
   "source": [
    "Y = sympy.Matrix(Y)\n",
    "Y"
   ]
  },
  {
   "cell_type": "code",
   "execution_count": 89,
   "id": "3372bce1",
   "metadata": {},
   "outputs": [
    {
     "data": {
      "text/latex": [
       "$\\displaystyle \\left[\\begin{matrix}- \\frac{10}{13} & - \\frac{37}{13} & - \\frac{24}{13}\\\\\\frac{3}{13} & \\frac{2}{13} & \\frac{2}{13}\\\\\\frac{9}{13} & \\frac{32}{13} & \\frac{19}{13}\\end{matrix}\\right]$"
      ],
      "text/plain": [
       "Matrix([\n",
       "[-10/13, -37/13, -24/13],\n",
       "[  3/13,   2/13,   2/13],\n",
       "[  9/13,  32/13,  19/13]])"
      ]
     },
     "execution_count": 89,
     "metadata": {},
     "output_type": "execute_result"
    }
   ],
   "source": [
    "InvA = A.inv()\n",
    "InvA"
   ]
  },
  {
   "cell_type": "code",
   "execution_count": 90,
   "id": "5ee6e724",
   "metadata": {},
   "outputs": [
    {
     "data": {
      "text/latex": [
       "$\\displaystyle \\left[\\begin{matrix}3\\\\-8\\\\-2\\end{matrix}\\right]$"
      ],
      "text/plain": [
       "Matrix([\n",
       "[ 3],\n",
       "[-8],\n",
       "[-2]])"
      ]
     },
     "execution_count": 90,
     "metadata": {},
     "output_type": "execute_result"
    }
   ],
   "source": [
    "InvA * Y"
   ]
  },
  {
   "cell_type": "code",
   "execution_count": null,
   "id": "1d6d9a40",
   "metadata": {},
   "outputs": [],
   "source": [
    "# Now with numpy"
   ]
  },
  {
   "cell_type": "code",
   "execution_count": 92,
   "id": "e1a3a1ad",
   "metadata": {},
   "outputs": [],
   "source": [
    "A = [[2, 5, 2],\n",
    "     [3, -2, 4],\n",
    "     [-6, 1, -7]]\n",
    "Y = [-38, 17, -12]"
   ]
  },
  {
   "cell_type": "markdown",
   "id": "3281be56",
   "metadata": {},
   "source": [
    "Solve $A X = Y$ for X as:\n",
    "\n",
    "$X = A^{-1} Y$\n"
   ]
  },
  {
   "cell_type": "code",
   "execution_count": 96,
   "id": "5c140ff5",
   "metadata": {},
   "outputs": [
    {
     "data": {
      "text/plain": [
       "array([ 3., -8., -2.])"
      ]
     },
     "execution_count": 96,
     "metadata": {},
     "output_type": "execute_result"
    }
   ],
   "source": [
    "InvA = np.linalg.inv(A)\n",
    "X = InvA.dot(Y)\n",
    "X"
   ]
  },
  {
   "cell_type": "code",
   "execution_count": null,
   "id": "eb22123d",
   "metadata": {},
   "outputs": [],
   "source": []
  }
 ],
 "metadata": {
  "kernelspec": {
   "display_name": "Python 3 (ipykernel)",
   "language": "python",
   "name": "python3"
  },
  "language_info": {
   "codemirror_mode": {
    "name": "ipython",
    "version": 3
   },
   "file_extension": ".py",
   "mimetype": "text/x-python",
   "name": "python",
   "nbconvert_exporter": "python",
   "pygments_lexer": "ipython3",
   "version": "3.10.7"
  }
 },
 "nbformat": 4,
 "nbformat_minor": 5
}
