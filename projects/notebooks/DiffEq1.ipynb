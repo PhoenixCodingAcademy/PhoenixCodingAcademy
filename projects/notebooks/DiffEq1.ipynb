{
 "cells": [
  {
   "cell_type": "markdown",
   "id": "3e9e09cb",
   "metadata": {},
   "source": [
    "DESCRIPTION: Template for Differential Equations\n",
    "    \n",
    "# Diff Eq."
   ]
  },
  {
   "cell_type": "code",
   "execution_count": 3,
   "id": "f2aecbdf",
   "metadata": {},
   "outputs": [],
   "source": [
    "import warnings\n",
    "warnings.simplefilter(action='ignore', category=FutureWarning)\n",
    "\n",
    "import numpy as np\n",
    "import pandas as pd\n",
    "import matplotlib.pyplot as plt\n",
    "\n",
    "pd.set_option(\"display.max.columns\", None)\n",
    "pd.set_option(\"display.precision\", 2)"
   ]
  },
  {
   "cell_type": "markdown",
   "id": "54fb32f0",
   "metadata": {},
   "source": [
    "The differential equation:\n",
    "$$\n",
    "\\frac{df}{dt} = 5\n",
    "$$\n",
    "\n",
    "The initial condition:\n",
    "$$\n",
    "f(0) = 10\n",
    "$$"
   ]
  },
  {
   "cell_type": "code",
   "execution_count": 6,
   "id": "97891ae8",
   "metadata": {},
   "outputs": [
    {
     "name": "stdout",
     "output_type": "stream",
     "text": [
      "\n",
      "     i       t          f\n",
      "------ ------- ----------\n",
      "\n",
      "     0    0.00      10.00\n",
      "     1    0.10      10.50\n",
      "     2    0.20      11.00\n",
      "     3    0.30      11.50\n",
      "     4    0.40      12.00\n",
      "     5    0.50      12.50\n",
      "     6    0.60      13.00\n",
      "     7    0.70      13.50\n",
      "     8    0.80      14.00\n",
      "     9    0.90      14.50\n",
      "    10    1.00      15.00\n",
      "    11    1.10      15.50\n",
      "    12    1.20      16.00\n",
      "    13    1.30      16.50\n",
      "    14    1.40      17.00\n",
      "    15    1.50      17.50\n",
      "    16    1.60      18.00\n",
      "    17    1.70      18.50\n",
      "    18    1.80      19.00\n",
      "    19    1.90      19.50\n",
      "    20    2.00      20.00\n",
      "    21    2.10      20.50\n",
      "    22    2.20      21.00\n",
      "    23    2.30      21.50\n",
      "    24    2.40      22.00\n",
      "    25    2.50      22.50\n",
      "    26    2.60      23.00\n",
      "    27    2.70      23.50\n",
      "    28    2.80      24.00\n",
      "    29    2.90      24.50\n",
      "    30    3.00      25.00\n",
      "    31    3.10      25.50\n",
      "    32    3.20      26.00\n",
      "    33    3.30      26.50\n",
      "    34    3.40      27.00\n",
      "    35    3.50      27.50\n",
      "    36    3.60      28.00\n",
      "    37    3.70      28.50\n",
      "    38    3.80      29.00\n",
      "    39    3.90      29.50\n",
      "    40    4.00      30.00\n",
      "    41    4.10      30.50\n",
      "    42    4.20      31.00\n",
      "    43    4.30      31.50\n",
      "    44    4.40      32.00\n",
      "    45    4.50      32.50\n",
      "    46    4.60      33.00\n",
      "    47    4.70      33.50\n",
      "    48    4.80      34.00\n",
      "    49    4.90      34.50\n",
      "    50    5.00      35.00\n",
      "    51    5.10      35.50\n",
      "    52    5.20      36.00\n",
      "    53    5.30      36.50\n",
      "    54    5.40      37.00\n",
      "    55    5.50      37.50\n",
      "    56    5.60      38.00\n",
      "    57    5.70      38.50\n",
      "    58    5.80      39.00\n",
      "    59    5.90      39.50\n",
      "    60    6.00      40.00\n",
      "    61    6.10      40.50\n",
      "    62    6.20      41.00\n",
      "    63    6.30      41.50\n",
      "    64    6.40      42.00\n",
      "    65    6.50      42.50\n",
      "    66    6.60      43.00\n",
      "    67    6.70      43.50\n",
      "    68    6.80      44.00\n",
      "    69    6.90      44.50\n",
      "    70    7.00      45.00\n",
      "    71    7.10      45.50\n",
      "    72    7.20      46.00\n",
      "    73    7.30      46.50\n",
      "    74    7.40      47.00\n",
      "    75    7.50      47.50\n",
      "    76    7.60      48.00\n",
      "    77    7.70      48.50\n",
      "    78    7.80      49.00\n",
      "    79    7.90      49.50\n",
      "    80    8.00      50.00\n",
      "    81    8.10      50.50\n",
      "    82    8.20      51.00\n",
      "    83    8.30      51.50\n",
      "    84    8.40      52.00\n",
      "    85    8.50      52.50\n",
      "    86    8.60      53.00\n",
      "    87    8.70      53.50\n",
      "    88    8.80      54.00\n",
      "    89    8.90      54.50\n",
      "    90    9.00      55.00\n",
      "    91    9.10      55.50\n",
      "    92    9.20      56.00\n",
      "    93    9.30      56.50\n",
      "    94    9.40      57.00\n",
      "    95    9.50      57.50\n",
      "    96    9.60      58.00\n",
      "    97    9.70      58.50\n",
      "    98    9.80      59.00\n",
      "    99    9.90      59.50\n"
     ]
    }
   ],
   "source": [
    "# Suppose we want to plot this equation from time = 0 to 10\n",
    "tStart = 0\n",
    "tStop = 10\n",
    "\n",
    "t = tStart\n",
    "dt = 0.1\n",
    "f = 10\n",
    "\n",
    "# For plotting\n",
    "F = []\n",
    "T = []\n",
    "\n",
    "print(f\"\"\"\n",
    "     i       t          f\n",
    "------ ------- ----------\n",
    "\"\"\")\n",
    "for i in range(int((tStop - tStart)/dt)):\n",
    "    print(f\"{i:>6} {t:>7.2f} {f:>10.2f}\")\n",
    "    F.append(f)\n",
    "    T.append(t)\n",
    "    \n",
    "    # Get the next value...\n",
    "    df = 5\n",
    "    \n",
    "    t = t + dt\n",
    "    f = f + df * dt"
   ]
  },
  {
   "cell_type": "code",
   "execution_count": 7,
   "id": "24f42b41",
   "metadata": {},
   "outputs": [
    {
     "data": {
      "image/png": "[encoded data removed]",
      "text/plain": [
       "<Figure size 640x480 with 1 Axes>"
      ]
     },
     "metadata": {},
     "output_type": "display_data"
    }
   ],
   "source": [
    "plt.plot(T, F, 'b', label=\"f\")\n",
    "plt.legend()\n",
    "plt.show()"
   ]
  },
  {
   "cell_type": "code",
   "execution_count": null,
   "id": "a5c11cdc",
   "metadata": {},
   "outputs": [],
   "source": []
  }
 ],
 "metadata": {
  "kernelspec": {
   "display_name": "Python 3 (ipykernel)",
   "language": "python",
   "name": "python3"
  },
  "language_info": {
   "codemirror_mode": {
    "name": "ipython",
    "version": 3
   },
   "file_extension": ".py",
   "mimetype": "text/x-python",
   "name": "python",
   "nbconvert_exporter": "python",
   "pygments_lexer": "ipython3",
   "version": "3.10.7"
  }
 },
 "nbformat": 4,
 "nbformat_minor": 5
}
