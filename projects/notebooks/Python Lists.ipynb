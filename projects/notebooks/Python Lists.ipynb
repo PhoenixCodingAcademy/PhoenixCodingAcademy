{
 "cells": [
  {
   "cell_type": "markdown",
   "id": "c06325a3",
   "metadata": {},
   "source": [
    "DESCRIPTION: Examples of manipulating lists, playing cards, and dealing hand.\n",
    "\n",
    "# List Cookbook"
   ]
  },
  {
   "cell_type": "code",
   "execution_count": 94,
   "id": "d0f79992",
   "metadata": {},
   "outputs": [],
   "source": [
    "import itertools\n",
    "import random\n",
    "random.seed(123)"
   ]
  },
  {
   "cell_type": "code",
   "execution_count": 75,
   "id": "fc47484d",
   "metadata": {},
   "outputs": [
    {
     "name": "stdout",
     "output_type": "stream",
     "text": [
      "a = [0, 1, 2, 3, 4, 5, 6, 7, 8, 9]\n",
      "b = [10, 11, 12, 13, 14, 15, 16, 17, 18, 19]\n",
      "c = [20, 21, 22, 23, 24, 25, 26, 27, 28, 29]\n"
     ]
    }
   ],
   "source": [
    "a = list(range(10))\n",
    "b = list(range(10,20))\n",
    "c = list(range(20,30))\n",
    "print('a =', a)\n",
    "print('b =', b)\n",
    "print('c =', c)"
   ]
  },
  {
   "cell_type": "code",
   "execution_count": 76,
   "id": "87dd5c31",
   "metadata": {},
   "outputs": [
    {
     "data": {
      "text/plain": [
       "10"
      ]
     },
     "execution_count": 76,
     "metadata": {},
     "output_type": "execute_result"
    }
   ],
   "source": [
    "# Number of elements\n",
    "len(a)"
   ]
  },
  {
   "cell_type": "code",
   "execution_count": 77,
   "id": "ddb03b4e",
   "metadata": {},
   "outputs": [
    {
     "name": "stdout",
     "output_type": "stream",
     "text": [
      "[0, 1, 2, 3, 4, 5, 6, 7, 8, 9, 10, 11, 12, 13, 14, 15, 16, 17, 18, 19, 20, 21, 22, 23, 24, 25, 26, 27, 28, 29]\n"
     ]
    }
   ],
   "source": [
    "# Concatenate lists\n",
    "print(a + b + c)"
   ]
  },
  {
   "cell_type": "markdown",
   "id": "f0aa9f10",
   "metadata": {},
   "source": [
    "## Slicing"
   ]
  },
  {
   "cell_type": "code",
   "execution_count": 78,
   "id": "a01ed660",
   "metadata": {},
   "outputs": [
    {
     "data": {
      "text/plain": [
       "9"
      ]
     },
     "execution_count": 78,
     "metadata": {},
     "output_type": "execute_result"
    }
   ],
   "source": [
    "# Last element\n",
    "a[-1]"
   ]
  },
  {
   "cell_type": "code",
   "execution_count": 79,
   "id": "93dc90ab",
   "metadata": {},
   "outputs": [
    {
     "data": {
      "text/plain": [
       "[0, 1, 2, 3, 4, 5, 6, 7, 8]"
      ]
     },
     "execution_count": 79,
     "metadata": {},
     "output_type": "execute_result"
    }
   ],
   "source": [
    "# All but last\n",
    "a[:-1]"
   ]
  },
  {
   "cell_type": "code",
   "execution_count": 80,
   "id": "d64fd826",
   "metadata": {},
   "outputs": [
    {
     "data": {
      "text/plain": [
       "[2, 3, 4, 5, 6, 7, 8, 9]"
      ]
     },
     "execution_count": 80,
     "metadata": {},
     "output_type": "execute_result"
    }
   ],
   "source": [
    "# Skip two\n",
    "a[2:]"
   ]
  },
  {
   "cell_type": "code",
   "execution_count": 81,
   "id": "e3c794e6",
   "metadata": {},
   "outputs": [
    {
     "data": {
      "text/plain": [
       "[1, 2, 3, 4, 5, 6, 7, 8]"
      ]
     },
     "execution_count": 81,
     "metadata": {},
     "output_type": "execute_result"
    }
   ],
   "source": [
    "# All but the ends\n",
    "a[1:-1]"
   ]
  },
  {
   "cell_type": "markdown",
   "id": "a8abd8f6",
   "metadata": {},
   "source": [
    "## Copying"
   ]
  },
  {
   "cell_type": "code",
   "execution_count": 82,
   "id": "93b376b8",
   "metadata": {},
   "outputs": [
    {
     "name": "stdout",
     "output_type": "stream",
     "text": [
      "\n",
      "a = [0, 1, 2, 3, 4, 5, 6, 7, 8, 9]\n",
      "d = [0, 1, 2, 3, 4, 100, 5, 6, 7, 8, 9]\n",
      "\n",
      "\n",
      "i = 6\n",
      "a = [0, 1, 2, 3, 4, 5, 6, 7, 8, 9]\n",
      "d = [-99, 0, 1, 2, 3, 4, 200, 5, 6, 7, 8, 9, 99]\n",
      "\n"
     ]
    }
   ],
   "source": [
    "# Copy a list and adjust it.\n",
    "d = list(a)\n",
    "\n",
    "# Insert 100 in the middle\n",
    "d.insert(5, 100)\n",
    "print(f\"\"\"\n",
    "a = {a}\n",
    "d = {d}\n",
    "\"\"\")\n",
    "\n",
    "# Add -99 to the beginning and 99 to the end\n",
    "d = [-99] + d + [99]\n",
    "\n",
    "# Find the 100 and change it to 200\n",
    "i = d.index(100)\n",
    "d[i] = 200\n",
    "\n",
    "print(f\"\"\"\n",
    "i = {i}\n",
    "a = {a}\n",
    "d = {d}\n",
    "\"\"\")\n",
    "\n",
    "\n"
   ]
  },
  {
   "cell_type": "markdown",
   "id": "cf382283",
   "metadata": {},
   "source": [
    "## Shuffling and Sorting"
   ]
  },
  {
   "cell_type": "code",
   "execution_count": 83,
   "id": "a7912db1",
   "metadata": {},
   "outputs": [
    {
     "data": {
      "text/plain": [
       "[8, 7, 5, 9, 2, 3, 6, 1, 4, 0]"
      ]
     },
     "execution_count": 83,
     "metadata": {},
     "output_type": "execute_result"
    }
   ],
   "source": [
    "# Shuffle a list\n",
    "e = list(a)\n",
    "random.shuffle(e)\n",
    "e"
   ]
  },
  {
   "cell_type": "code",
   "execution_count": 84,
   "id": "3b3a182e",
   "metadata": {},
   "outputs": [
    {
     "name": "stdout",
     "output_type": "stream",
     "text": [
      "\n",
      "sorted = [0, 1, 2, 3, 4, 5, 6, 7, 8, 9]\n",
      "  --> returns a new list that is sorted.\n",
      "\n",
      "reverse = [9, 8, 7, 6, 5, 4, 3, 2, 1, 0]\n",
      "reverse = [9, 8, 7, 6, 5, 4, 3, 2, 1, 0]\n",
      "reverse = [9, 8, 7, 6, 5, 4, 3, 2, 1, 0]\n",
      "\n",
      "\n",
      "e = [8, 7, 5, 9, 2, 3, 6, 1, 4, 0]\n",
      "  --> is still the same.\n",
      "\n"
     ]
    }
   ],
   "source": [
    "# Sort e ascending\n",
    "f = sorted(e)\n",
    "print(f\"\"\"\n",
    "sorted = {sorted(e)}\n",
    "  --> returns a new list that is sorted.\n",
    "\n",
    "reverse = {list(reversed(f))}\n",
    "reverse = {f[::-1]}\n",
    "reverse = {sorted(f, key=a.index, reverse=True)}\n",
    "\n",
    "\n",
    "e = {e}\n",
    "  --> is still the same.\n",
    "\"\"\")\n"
   ]
  },
  {
   "cell_type": "code",
   "execution_count": 85,
   "id": "38e52544",
   "metadata": {},
   "outputs": [
    {
     "name": "stdout",
     "output_type": "stream",
     "text": [
      "  8\n",
      "  7\n",
      "  5\n",
      "  9\n",
      "  2\n",
      "  3\n",
      "  6\n",
      "  1\n",
      "  4\n",
      "  0\n"
     ]
    }
   ],
   "source": [
    "# Loop over a list\n",
    "for x in e:\n",
    "    print(f\"  {x}\")"
   ]
  },
  {
   "cell_type": "code",
   "execution_count": 86,
   "id": "c70b5cc7",
   "metadata": {},
   "outputs": [
    {
     "name": "stdout",
     "output_type": "stream",
     "text": [
      "  e[0] = 8\n",
      "  e[1] = 7\n",
      "  e[2] = 5\n",
      "  e[3] = 9\n",
      "  e[4] = 2\n",
      "  e[5] = 3\n",
      "  e[6] = 6\n",
      "  e[7] = 1\n",
      "  e[8] = 4\n",
      "  e[9] = 0\n"
     ]
    }
   ],
   "source": [
    "# Loop over a list\n",
    "for i,x in enumerate(e):\n",
    "    print(f\"  e[{i}] = {x}\")"
   ]
  },
  {
   "cell_type": "code",
   "execution_count": 87,
   "id": "5fda1b23",
   "metadata": {},
   "outputs": [
    {
     "name": "stdout",
     "output_type": "stream",
     "text": [
      "\n",
      "animals = ['bird', 'cat', 'cow', 'dog', 'duck', 'horse', 'mouse', 'pig']\n",
      "\n"
     ]
    }
   ],
   "source": [
    "animals = ['dog', 'cat', 'bird', 'mouse', 'horse', 'cow', 'pig', 'duck']\n",
    "print(f\"\"\"\n",
    "animals = {sorted(animals)}\n",
    "\"\"\")"
   ]
  },
  {
   "cell_type": "code",
   "execution_count": 88,
   "id": "19c0fb6b",
   "metadata": {},
   "outputs": [
    {
     "data": {
      "text/plain": [
       "'cow'"
      ]
     },
     "execution_count": 88,
     "metadata": {},
     "output_type": "execute_result"
    }
   ],
   "source": [
    "# Pick a random animal\n",
    "random.choice(animals)"
   ]
  },
  {
   "cell_type": "code",
   "execution_count": 105,
   "id": "404b6266",
   "metadata": {},
   "outputs": [
    {
     "data": {
      "text/plain": [
       "[2, 3, 4, 5, 6, 7, 8, 9, 10, 'J', 'Q', 'K', 'A']"
      ]
     },
     "execution_count": 105,
     "metadata": {},
     "output_type": "execute_result"
    }
   ],
   "source": [
    "suits = ['Spades', 'Hearts', 'Clubs', 'Diamonds']\n",
    "ranks = list(range(2,11)) + ['J', 'Q', 'K', 'A']\n",
    "ranks"
   ]
  },
  {
   "cell_type": "code",
   "execution_count": 110,
   "id": "0ecea6eb",
   "metadata": {},
   "outputs": [
    {
     "name": "stdout",
     "output_type": "stream",
     "text": [
      "[(2, 'Spades'), (2, 'Hearts'), (2, 'Clubs'), (2, 'Diamonds'), (3, 'Spades'), (3, 'Hearts'), (3, 'Clubs'), (3, 'Diamonds'), (4, 'Spades'), (4, 'Hearts'), (4, 'Clubs'), (4, 'Diamonds'), (5, 'Spades'), (5, 'Hearts'), (5, 'Clubs'), (5, 'Diamonds'), (6, 'Spades'), (6, 'Hearts'), (6, 'Clubs'), (6, 'Diamonds'), (7, 'Spades'), (7, 'Hearts'), (7, 'Clubs'), (7, 'Diamonds'), (8, 'Spades'), (8, 'Hearts'), (8, 'Clubs'), (8, 'Diamonds'), (9, 'Spades'), (9, 'Hearts'), (9, 'Clubs'), (9, 'Diamonds'), (10, 'Spades'), (10, 'Hearts'), (10, 'Clubs'), (10, 'Diamonds'), ('J', 'Spades'), ('J', 'Hearts'), ('J', 'Clubs'), ('J', 'Diamonds'), ('Q', 'Spades'), ('Q', 'Hearts'), ('Q', 'Clubs'), ('Q', 'Diamonds'), ('K', 'Spades'), ('K', 'Hearts'), ('K', 'Clubs'), ('K', 'Diamonds'), ('A', 'Spades'), ('A', 'Hearts'), ('A', 'Clubs'), ('A', 'Diamonds')]\n"
     ]
    }
   ],
   "source": [
    "# Cross product\n",
    "deck = list(itertools.product(ranks, suits))\n",
    "print(deck)"
   ]
  },
  {
   "cell_type": "code",
   "execution_count": 109,
   "id": "792d632d",
   "metadata": {},
   "outputs": [
    {
     "name": "stdout",
     "output_type": "stream",
     "text": [
      "['2-Spades', '3-Spades', '4-Spades', '5-Spades', '6-Spades', '7-Spades', '8-Spades', '9-Spades', '10-Spades', 'J-Spades', 'Q-Spades', 'K-Spades', 'A-Spades', '2-Hearts', '3-Hearts', '4-Hearts', '5-Hearts', '6-Hearts', '7-Hearts', '8-Hearts', '9-Hearts', '10-Hearts', 'J-Hearts', 'Q-Hearts', 'K-Hearts', 'A-Hearts', '2-Clubs', '3-Clubs', '4-Clubs', '5-Clubs', '6-Clubs', '7-Clubs', '8-Clubs', '9-Clubs', '10-Clubs', 'J-Clubs', 'Q-Clubs', 'K-Clubs', 'A-Clubs', '2-Diamonds', '3-Diamonds', '4-Diamonds', '5-Diamonds', '6-Diamonds', '7-Diamonds', '8-Diamonds', '9-Diamonds', '10-Diamonds', 'J-Diamonds', 'Q-Diamonds', 'K-Diamonds', 'A-Diamonds']\n"
     ]
    }
   ],
   "source": [
    "# Another method\n",
    "deck = [f\"{r}-{s}\" for s in suits for r in rank]\n",
    "print(deck)"
   ]
  },
  {
   "cell_type": "code",
   "execution_count": 111,
   "id": "f3ca8b6e",
   "metadata": {},
   "outputs": [
    {
     "name": "stdout",
     "output_type": "stream",
     "text": [
      "['2S', '3S', '4S', '5S', '6S', '7S', '8S', '9S', '10S', 'JS', 'QS', 'KS', 'AS', '2H', '3H', '4H', '5H', '6H', '7H', '8H', '9H', '10H', 'JH', 'QH', 'KH', 'AH', '2C', '3C', '4C', '5C', '6C', '7C', '8C', '9C', '10C', 'JC', 'QC', 'KC', 'AC', '2D', '3D', '4D', '5D', '6D', '7D', '8D', '9D', '10D', 'JD', 'QD', 'KD', 'AD']\n"
     ]
    }
   ],
   "source": [
    "# More compack\n",
    "deck = [f\"{r}{s[0]}\" for s in suits for r in rank]\n",
    "print(deck)"
   ]
  },
  {
   "cell_type": "code",
   "execution_count": 112,
   "id": "73c1bdd3",
   "metadata": {},
   "outputs": [
    {
     "data": {
      "text/plain": [
       "['♠', '♥', '♣', '♦']"
      ]
     },
     "execution_count": 112,
     "metadata": {},
     "output_type": "execute_result"
    }
   ],
   "source": [
    "suits = list(\"♠♥♣♦\")\n",
    "suits"
   ]
  },
  {
   "cell_type": "code",
   "execution_count": 126,
   "id": "c981b44f",
   "metadata": {},
   "outputs": [
    {
     "name": "stdout",
     "output_type": "stream",
     "text": [
      "['2♠', '3♠', '4♠', '5♠', '6♠', '7♠', '8♠', '9♠', '10♠', 'J♠', 'Q♠', 'K♠', 'A♠', '2♥', '3♥', '4♥', '5♥', '6♥', '7♥', '8♥', '9♥', '10♥', 'J♥', 'Q♥', 'K♥', 'A♥', '2♣', '3♣', '4♣', '5♣', '6♣', '7♣', '8♣', '9♣', '10♣', 'J♣', 'Q♣', 'K♣', 'A♣', '2♦', '3♦', '4♦', '5♦', '6♦', '7♦', '8♦', '9♦', '10♦', 'J♦', 'Q♦', 'K♦', 'A♦']\n",
      "52 cards\n"
     ]
    }
   ],
   "source": [
    "deck = [f\"{r}{s}\" for s in suits for r in rank]\n",
    "print(deck)\n",
    "print(len(deck), 'cards')"
   ]
  },
  {
   "cell_type": "code",
   "execution_count": 127,
   "id": "92add041",
   "metadata": {},
   "outputs": [
    {
     "data": {
      "text/plain": [
       "['A♥', '10♣', '8♣', '9♦', '5♠']"
      ]
     },
     "execution_count": 127,
     "metadata": {},
     "output_type": "execute_result"
    }
   ],
   "source": [
    "# Deal 5 random cards\n",
    "hand = random.sample(deck, 5)\n",
    "hand"
   ]
  },
  {
   "cell_type": "code",
   "execution_count": 131,
   "id": "a64d058a",
   "metadata": {},
   "outputs": [
    {
     "name": "stdout",
     "output_type": "stream",
     "text": [
      "Person[1] = ['10♦', '3♦', '5♠', '7♠', '9♣']\n",
      "Person[2] = ['10♣', '4♦', '8♥', 'J♠', 'K♥']\n",
      "Person[3] = ['10♠', '7♥', '8♦', '9♦', 'Q♥']\n",
      "Person[4] = ['10♥', '9♠', 'A♦', 'Q♠', 'Q♦']\n"
     ]
    }
   ],
   "source": [
    "# Poker for n people\n",
    "# Notice that 10 comes before 2 because it is sorting lexically, character-by-character left-to-right. \n",
    "# The \"1\" in 10 is less than \"2\"\n",
    "n = 4\n",
    "deal = random.sample(deck, 5*n)\n",
    "for i in range(n):\n",
    "    hand = deal[5*i:5*(i+1)]\n",
    "    print(f\"Person[{i+1}] = {sorted(hand)}\")"
   ]
  },
  {
   "cell_type": "code",
   "execution_count": 133,
   "id": "dc7f0723",
   "metadata": {},
   "outputs": [
    {
     "name": "stdout",
     "output_type": "stream",
     "text": [
      "Person[1] = ['8♠', '8♣', '9♦', '10♣', '10♥']\n",
      "Person[2] = ['3♥', '7♠', 'A♦', 'Q♣', 'Q♥']\n",
      "Person[3] = ['2♥', '4♥', '6♥', '9♥', 'K♦']\n",
      "Person[4] = ['3♦', '4♠', '5♥', '5♦', 'A♥']\n"
     ]
    }
   ],
   "source": [
    "# Correct sorting\n",
    "\n",
    "def SortCards(x):\n",
    "    \"\"\"\n",
    "    To custom sort, define a function that changes the input into something that sorts correctly.\n",
    "    Example: \n",
    "      if x = \"10♦\" then return \"10♦\".\n",
    "      if x = \"2♥\" then return \"02♥\".\n",
    "    \"\"\"\n",
    "    return f\"{x[:-1]:>02}{x[-1]}\"\n",
    "\n",
    "n = 4\n",
    "deal = random.sample(deck, 5*n)\n",
    "for i in range(n):\n",
    "    hand = deal[5*i:5*(i+1)]\n",
    "    print(f\"Person[{i+1}] = {sorted(hand, key=SortCards)}\")"
   ]
  },
  {
   "cell_type": "code",
   "execution_count": null,
   "id": "331cd8ec",
   "metadata": {},
   "outputs": [],
   "source": []
  }
 ],
 "metadata": {
  "kernelspec": {
   "display_name": "Python 3 (ipykernel)",
   "language": "python",
   "name": "python3"
  },
  "language_info": {
   "codemirror_mode": {
    "name": "ipython",
    "version": 3
   },
   "file_extension": ".py",
   "mimetype": "text/x-python",
   "name": "python",
   "nbconvert_exporter": "python",
   "pygments_lexer": "ipython3",
   "version": "3.10.7"
  }
 },
 "nbformat": 4,
 "nbformat_minor": 5
}
